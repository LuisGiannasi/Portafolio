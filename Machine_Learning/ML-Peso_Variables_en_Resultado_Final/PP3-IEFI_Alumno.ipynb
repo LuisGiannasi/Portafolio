{
 "cells": [
  {
   "cell_type": "markdown",
   "metadata": {},
   "source": [
    "# Práctica Profesionalizante 3\n",
    "# IEFI"
   ]
  },
  {
   "cell_type": "markdown",
   "metadata": {},
   "source": [
    "Dado el dataset X.npy, y.npy donde y es bivariada:  \n",
    "\n",
    "- Cárguelos como arrays de numpy con los nombres X e y respectivamente."
   ]
  },
  {
   "cell_type": "code",
   "execution_count": 1,
   "metadata": {
    "ExecuteTime": {
     "end_time": "2021-06-30T23:16:36.479826Z",
     "start_time": "2021-06-30T23:16:35.643747Z"
    }
   },
   "outputs": [],
   "source": [
    "import pandas as pd \n",
    "import numpy as np \n",
    "import sklearn "
   ]
  },
  {
   "cell_type": "code",
   "execution_count": 2,
   "metadata": {
    "ExecuteTime": {
     "end_time": "2021-06-30T23:16:36.486796Z",
     "start_time": "2021-06-30T23:16:36.482831Z"
    }
   },
   "outputs": [],
   "source": [
    "X = np.load('data/X.npy', allow_pickle=True)\r\n",
    "y = np.load('data/y.npy', allow_pickle=True)"
   ]
  },
  {
   "cell_type": "code",
   "execution_count": 3,
   "metadata": {},
   "outputs": [],
   "source": [
    "from sklearn.preprocessing import MinMaxScaler\r\n",
    "scaler = MinMaxScaler(feature_range=(-1, 1))  \r\n",
    "scaler.fit(X)\r\n",
    "X = scaler.transform(X)"
   ]
  },
  {
   "cell_type": "code",
   "execution_count": 4,
   "metadata": {},
   "outputs": [],
   "source": [
    "X = pd.DataFrame(X)"
   ]
  },
  {
   "cell_type": "code",
   "execution_count": 5,
   "metadata": {},
   "outputs": [],
   "source": [
    "for i in range(X.shape[1]):\r\n",
    "    X.rename(columns={i:('x'+str(i+1))}, inplace=True)"
   ]
  },
  {
   "cell_type": "code",
   "execution_count": 6,
   "metadata": {},
   "outputs": [
    {
     "data": {
      "text/plain": [
       "(1000, 20)"
      ]
     },
     "execution_count": 6,
     "metadata": {},
     "output_type": "execute_result"
    }
   ],
   "source": [
    "X.shape"
   ]
  },
  {
   "cell_type": "code",
   "execution_count": 7,
   "metadata": {},
   "outputs": [
    {
     "data": {
      "text/html": [
       "<div>\n",
       "<style scoped>\n",
       "    .dataframe tbody tr th:only-of-type {\n",
       "        vertical-align: middle;\n",
       "    }\n",
       "\n",
       "    .dataframe tbody tr th {\n",
       "        vertical-align: top;\n",
       "    }\n",
       "\n",
       "    .dataframe thead th {\n",
       "        text-align: right;\n",
       "    }\n",
       "</style>\n",
       "<table border=\"1\" class=\"dataframe\">\n",
       "  <thead>\n",
       "    <tr style=\"text-align: right;\">\n",
       "      <th></th>\n",
       "      <th>x1</th>\n",
       "      <th>x2</th>\n",
       "      <th>x3</th>\n",
       "      <th>x4</th>\n",
       "      <th>x5</th>\n",
       "      <th>x6</th>\n",
       "      <th>x7</th>\n",
       "      <th>x8</th>\n",
       "      <th>x9</th>\n",
       "      <th>x10</th>\n",
       "      <th>x11</th>\n",
       "      <th>x12</th>\n",
       "      <th>x13</th>\n",
       "      <th>x14</th>\n",
       "      <th>x15</th>\n",
       "      <th>x16</th>\n",
       "      <th>x17</th>\n",
       "      <th>x18</th>\n",
       "      <th>x19</th>\n",
       "      <th>x20</th>\n",
       "    </tr>\n",
       "  </thead>\n",
       "  <tbody>\n",
       "    <tr>\n",
       "      <th>0</th>\n",
       "      <td>0.097990</td>\n",
       "      <td>0.340667</td>\n",
       "      <td>-0.242157</td>\n",
       "      <td>0.134337</td>\n",
       "      <td>-0.271241</td>\n",
       "      <td>0.130791</td>\n",
       "      <td>0.111032</td>\n",
       "      <td>-0.174739</td>\n",
       "      <td>-0.255644</td>\n",
       "      <td>0.134337</td>\n",
       "      <td>0.169878</td>\n",
       "      <td>0.460179</td>\n",
       "      <td>-0.321191</td>\n",
       "      <td>-0.010534</td>\n",
       "      <td>-0.120602</td>\n",
       "      <td>-0.164123</td>\n",
       "      <td>0.409250</td>\n",
       "      <td>-0.183973</td>\n",
       "      <td>0.085108</td>\n",
       "      <td>0.085108</td>\n",
       "    </tr>\n",
       "    <tr>\n",
       "      <th>1</th>\n",
       "      <td>0.737100</td>\n",
       "      <td>-0.220382</td>\n",
       "      <td>0.401955</td>\n",
       "      <td>-0.711231</td>\n",
       "      <td>0.572058</td>\n",
       "      <td>0.196666</td>\n",
       "      <td>0.452551</td>\n",
       "      <td>0.217239</td>\n",
       "      <td>0.673526</td>\n",
       "      <td>-0.711231</td>\n",
       "      <td>-0.403847</td>\n",
       "      <td>0.054373</td>\n",
       "      <td>-0.301104</td>\n",
       "      <td>-0.160751</td>\n",
       "      <td>0.014660</td>\n",
       "      <td>-0.024911</td>\n",
       "      <td>0.169984</td>\n",
       "      <td>-0.220774</td>\n",
       "      <td>-0.336932</td>\n",
       "      <td>-0.336932</td>\n",
       "    </tr>\n",
       "    <tr>\n",
       "      <th>2</th>\n",
       "      <td>-0.121484</td>\n",
       "      <td>-0.175109</td>\n",
       "      <td>0.271544</td>\n",
       "      <td>0.316087</td>\n",
       "      <td>-0.259378</td>\n",
       "      <td>-0.006024</td>\n",
       "      <td>-0.106266</td>\n",
       "      <td>0.425087</td>\n",
       "      <td>-0.002332</td>\n",
       "      <td>0.316087</td>\n",
       "      <td>-0.427018</td>\n",
       "      <td>-0.028487</td>\n",
       "      <td>-0.004035</td>\n",
       "      <td>0.299433</td>\n",
       "      <td>0.287323</td>\n",
       "      <td>-0.334432</td>\n",
       "      <td>0.050210</td>\n",
       "      <td>-0.242072</td>\n",
       "      <td>-0.098560</td>\n",
       "      <td>-0.098560</td>\n",
       "    </tr>\n",
       "    <tr>\n",
       "      <th>3</th>\n",
       "      <td>0.655278</td>\n",
       "      <td>-0.122830</td>\n",
       "      <td>-0.012052</td>\n",
       "      <td>-0.279743</td>\n",
       "      <td>0.818249</td>\n",
       "      <td>0.137160</td>\n",
       "      <td>0.107157</td>\n",
       "      <td>-0.020696</td>\n",
       "      <td>0.523424</td>\n",
       "      <td>-0.279743</td>\n",
       "      <td>0.136629</td>\n",
       "      <td>-0.255718</td>\n",
       "      <td>-0.329038</td>\n",
       "      <td>-0.285599</td>\n",
       "      <td>0.430301</td>\n",
       "      <td>0.067259</td>\n",
       "      <td>0.264324</td>\n",
       "      <td>0.075779</td>\n",
       "      <td>-0.776885</td>\n",
       "      <td>-0.776885</td>\n",
       "    </tr>\n",
       "    <tr>\n",
       "      <th>4</th>\n",
       "      <td>0.269292</td>\n",
       "      <td>0.182895</td>\n",
       "      <td>-0.126721</td>\n",
       "      <td>0.106437</td>\n",
       "      <td>-0.342351</td>\n",
       "      <td>-0.096885</td>\n",
       "      <td>0.213502</td>\n",
       "      <td>-0.115173</td>\n",
       "      <td>0.130651</td>\n",
       "      <td>0.106437</td>\n",
       "      <td>-0.086828</td>\n",
       "      <td>-0.543681</td>\n",
       "      <td>0.283055</td>\n",
       "      <td>0.270080</td>\n",
       "      <td>0.266788</td>\n",
       "      <td>-0.386429</td>\n",
       "      <td>0.203762</td>\n",
       "      <td>-0.323645</td>\n",
       "      <td>-0.164142</td>\n",
       "      <td>-0.164142</td>\n",
       "    </tr>\n",
       "  </tbody>\n",
       "</table>\n",
       "</div>"
      ],
      "text/plain": [
       "         x1        x2        x3        x4        x5        x6        x7  \\\n",
       "0  0.097990  0.340667 -0.242157  0.134337 -0.271241  0.130791  0.111032   \n",
       "1  0.737100 -0.220382  0.401955 -0.711231  0.572058  0.196666  0.452551   \n",
       "2 -0.121484 -0.175109  0.271544  0.316087 -0.259378 -0.006024 -0.106266   \n",
       "3  0.655278 -0.122830 -0.012052 -0.279743  0.818249  0.137160  0.107157   \n",
       "4  0.269292  0.182895 -0.126721  0.106437 -0.342351 -0.096885  0.213502   \n",
       "\n",
       "         x8        x9       x10       x11       x12       x13       x14  \\\n",
       "0 -0.174739 -0.255644  0.134337  0.169878  0.460179 -0.321191 -0.010534   \n",
       "1  0.217239  0.673526 -0.711231 -0.403847  0.054373 -0.301104 -0.160751   \n",
       "2  0.425087 -0.002332  0.316087 -0.427018 -0.028487 -0.004035  0.299433   \n",
       "3 -0.020696  0.523424 -0.279743  0.136629 -0.255718 -0.329038 -0.285599   \n",
       "4 -0.115173  0.130651  0.106437 -0.086828 -0.543681  0.283055  0.270080   \n",
       "\n",
       "        x15       x16       x17       x18       x19       x20  \n",
       "0 -0.120602 -0.164123  0.409250 -0.183973  0.085108  0.085108  \n",
       "1  0.014660 -0.024911  0.169984 -0.220774 -0.336932 -0.336932  \n",
       "2  0.287323 -0.334432  0.050210 -0.242072 -0.098560 -0.098560  \n",
       "3  0.430301  0.067259  0.264324  0.075779 -0.776885 -0.776885  \n",
       "4  0.266788 -0.386429  0.203762 -0.323645 -0.164142 -0.164142  "
      ]
     },
     "execution_count": 7,
     "metadata": {},
     "output_type": "execute_result"
    }
   ],
   "source": [
    "X.head()"
   ]
  },
  {
   "cell_type": "code",
   "execution_count": 8,
   "metadata": {},
   "outputs": [],
   "source": [
    "y = pd.DataFrame(y)\r\n",
    "y.rename(columns={0:'y'}, inplace=True)"
   ]
  },
  {
   "cell_type": "code",
   "execution_count": 9,
   "metadata": {},
   "outputs": [
    {
     "data": {
      "text/plain": [
       "(1000, 1)"
      ]
     },
     "execution_count": 9,
     "metadata": {},
     "output_type": "execute_result"
    }
   ],
   "source": [
    "y.shape"
   ]
  },
  {
   "cell_type": "code",
   "execution_count": 10,
   "metadata": {},
   "outputs": [
    {
     "data": {
      "text/html": [
       "<div>\n",
       "<style scoped>\n",
       "    .dataframe tbody tr th:only-of-type {\n",
       "        vertical-align: middle;\n",
       "    }\n",
       "\n",
       "    .dataframe tbody tr th {\n",
       "        vertical-align: top;\n",
       "    }\n",
       "\n",
       "    .dataframe thead th {\n",
       "        text-align: right;\n",
       "    }\n",
       "</style>\n",
       "<table border=\"1\" class=\"dataframe\">\n",
       "  <thead>\n",
       "    <tr style=\"text-align: right;\">\n",
       "      <th></th>\n",
       "      <th>y</th>\n",
       "    </tr>\n",
       "  </thead>\n",
       "  <tbody>\n",
       "    <tr>\n",
       "      <th>0</th>\n",
       "      <td>0</td>\n",
       "    </tr>\n",
       "    <tr>\n",
       "      <th>1</th>\n",
       "      <td>1</td>\n",
       "    </tr>\n",
       "    <tr>\n",
       "      <th>2</th>\n",
       "      <td>1</td>\n",
       "    </tr>\n",
       "    <tr>\n",
       "      <th>3</th>\n",
       "      <td>0</td>\n",
       "    </tr>\n",
       "    <tr>\n",
       "      <th>4</th>\n",
       "      <td>1</td>\n",
       "    </tr>\n",
       "  </tbody>\n",
       "</table>\n",
       "</div>"
      ],
      "text/plain": [
       "   y\n",
       "0  0\n",
       "1  1\n",
       "2  1\n",
       "3  0\n",
       "4  1"
      ]
     },
     "execution_count": 10,
     "metadata": {},
     "output_type": "execute_result"
    }
   ],
   "source": [
    "y.head()"
   ]
  },
  {
   "cell_type": "markdown",
   "metadata": {},
   "source": [
    "## Determine cuántas features y cuantas observaciones tiene el dataset."
   ]
  },
  {
   "cell_type": "code",
   "execution_count": 11,
   "metadata": {
    "ExecuteTime": {
     "end_time": "2021-06-30T23:16:36.497767Z",
     "start_time": "2021-06-30T23:16:36.490786Z"
    }
   },
   "outputs": [
    {
     "data": {
      "text/plain": [
       "1000"
      ]
     },
     "execution_count": 11,
     "metadata": {},
     "output_type": "execute_result"
    }
   ],
   "source": [
    "observaciones = X.shape[0]\r\n",
    "observaciones"
   ]
  },
  {
   "cell_type": "code",
   "execution_count": 12,
   "metadata": {},
   "outputs": [
    {
     "data": {
      "text/plain": [
       "20"
      ]
     },
     "execution_count": 12,
     "metadata": {},
     "output_type": "execute_result"
    }
   ],
   "source": [
    "features = X.shape[1]\r\n",
    "features"
   ]
  },
  {
   "cell_type": "code",
   "execution_count": 13,
   "metadata": {},
   "outputs": [
    {
     "data": {
      "text/plain": [
       "1000"
      ]
     },
     "execution_count": 13,
     "metadata": {},
     "output_type": "execute_result"
    }
   ],
   "source": [
    "observaciones_y = y.shape[0]\r\n",
    "observaciones_y"
   ]
  },
  {
   "cell_type": "markdown",
   "metadata": {},
   "source": [
    "A los fines de comprendernos, diremos que los nombres de las features son $ x_1, x_2 ...$"
   ]
  },
  {
   "cell_type": "markdown",
   "metadata": {},
   "source": [
    "## Genere Train y Test \n",
    "\n",
    "en una proporción 80/20 (random_state=123),\n",
    "- Llámelos X_train e y_train"
   ]
  },
  {
   "cell_type": "code",
   "execution_count": 14,
   "metadata": {
    "ExecuteTime": {
     "end_time": "2021-06-30T23:16:36.507739Z",
     "start_time": "2021-06-30T23:16:36.499763Z"
    }
   },
   "outputs": [],
   "source": [
    "from sklearn.model_selection import train_test_split\r\n",
    "X_train, X_test, y_train, y_test = train_test_split(X, y, test_size = 0.20, random_state = 123, stratify = y)"
   ]
  },
  {
   "cell_type": "code",
   "execution_count": 15,
   "metadata": {},
   "outputs": [
    {
     "data": {
      "text/plain": [
       "(800, 20)"
      ]
     },
     "execution_count": 15,
     "metadata": {},
     "output_type": "execute_result"
    }
   ],
   "source": [
    "X_train.shape"
   ]
  },
  {
   "cell_type": "code",
   "execution_count": 16,
   "metadata": {},
   "outputs": [
    {
     "data": {
      "text/plain": [
       "(800, 1)"
      ]
     },
     "execution_count": 16,
     "metadata": {},
     "output_type": "execute_result"
    }
   ],
   "source": [
    "y_train.shape"
   ]
  },
  {
   "cell_type": "markdown",
   "metadata": {
    "ExecuteTime": {
     "end_time": "2021-06-30T21:30:00.448655Z",
     "start_time": "2021-06-30T21:30:00.442661Z"
    }
   },
   "source": [
    "Ud está interesado en **interpretar** el modelo, para lo cual decide utilizar un modelo de **Regresión Logística** porque es fácilmente interpretable.  \n",
    "\n",
    "\n",
    "\n",
    "## Crear un modelo de Regresión Logística: \n",
    "\n",
    "    - sin regularización (penalty=none)  \n",
    "    - con random_state=123\n",
    "    - dejar el resto de los parámetros con sus valores por defecto\n",
    "    - llámelo LR\n",
    "\n",
    "\n",
    "- Entrene el modelo en Train \n",
    "- Evalúelo en el Test con Accuracy.\n",
    "- Muestre el valor de Accuracy obtenido"
   ]
  },
  {
   "cell_type": "code",
   "execution_count": 17,
   "metadata": {
    "ExecuteTime": {
     "end_time": "2021-06-30T23:16:36.520705Z",
     "start_time": "2021-06-30T23:16:36.509734Z"
    }
   },
   "outputs": [
    {
     "name": "stderr",
     "output_type": "stream",
     "text": [
      "C:\\Users\\luisg\\anaconda3\\envs\\Redes_Neuronales\\lib\\site-packages\\sklearn\\utils\\validation.py:63: DataConversionWarning: A column-vector y was passed when a 1d array was expected. Please change the shape of y to (n_samples, ), for example using ravel().\n",
      "  return f(*args, **kwargs)\n"
     ]
    }
   ],
   "source": [
    "from sklearn.linear_model import LogisticRegression\r\n",
    "LR = LogisticRegression(penalty = 'none', fit_intercept = True, random_state = 123).fit(X_train, y_train)"
   ]
  },
  {
   "cell_type": "markdown",
   "metadata": {},
   "source": [
    "Pronostico"
   ]
  },
  {
   "cell_type": "code",
   "execution_count": 18,
   "metadata": {},
   "outputs": [
    {
     "data": {
      "text/plain": [
       "array([[0.96955499, 0.03044501],\n",
       "       [0.37290666, 0.62709334],\n",
       "       [0.08136998, 0.91863002],\n",
       "       [0.95430268, 0.04569732],\n",
       "       [0.95899948, 0.04100052]])"
      ]
     },
     "execution_count": 18,
     "metadata": {},
     "output_type": "execute_result"
    }
   ],
   "source": [
    "LR.predict_proba(X_test)[:5]"
   ]
  },
  {
   "cell_type": "markdown",
   "metadata": {},
   "source": [
    "Métrica de evaluacion : 'accuracy'"
   ]
  },
  {
   "cell_type": "code",
   "execution_count": 19,
   "metadata": {},
   "outputs": [
    {
     "data": {
      "text/plain": [
       "0.8"
      ]
     },
     "execution_count": 19,
     "metadata": {},
     "output_type": "execute_result"
    }
   ],
   "source": [
    "LR.score(X_test, y_test)"
   ]
  },
  {
   "cell_type": "markdown",
   "metadata": {},
   "source": [
    "Asumamos que la accuracy obtenida es razonable ( debería dar un valor superior al 80%, sino revise)."
   ]
  },
  {
   "cell_type": "markdown",
   "metadata": {},
   "source": [
    "## Genere el \"modelo para producción\" - llámelo LRp"
   ]
  },
  {
   "cell_type": "code",
   "execution_count": 20,
   "metadata": {
    "ExecuteTime": {
     "end_time": "2021-06-30T23:16:36.539654Z",
     "start_time": "2021-06-30T23:16:36.522700Z"
    }
   },
   "outputs": [
    {
     "name": "stderr",
     "output_type": "stream",
     "text": [
      "C:\\Users\\luisg\\anaconda3\\envs\\Redes_Neuronales\\lib\\site-packages\\sklearn\\utils\\validation.py:63: DataConversionWarning: A column-vector y was passed when a 1d array was expected. Please change the shape of y to (n_samples, ), for example using ravel().\n",
      "  return f(*args, **kwargs)\n"
     ]
    },
    {
     "data": {
      "text/plain": [
       "<bound method LinearClassifierMixin.predict of LogisticRegression()>"
      ]
     },
     "execution_count": 20,
     "metadata": {},
     "output_type": "execute_result"
    }
   ],
   "source": [
    "LRp = LogisticRegression().fit(X, y)\r\n",
    "LRp.predict"
   ]
  },
  {
   "cell_type": "markdown",
   "metadata": {},
   "source": [
    "Del teorico sabemos que en el caso de Regresión Logística la función con la que aproximamos es:  \n",
    "\n",
    "$$ y \\approx h(x) = \\frac {1}{1+e^-(w_0+w_1 x_1 +...+ w_n x_n)}$$  \n",
    "\n",
    "Estamos interesados en conocer el valor de todos los parámetros $w_i$ que obtuvo nuestro modelo después de ser entrenado.  \n"
   ]
  },
  {
   "cell_type": "markdown",
   "metadata": {},
   "source": [
    "## Obtener $w_0$  "
   ]
  },
  {
   "cell_type": "code",
   "execution_count": 21,
   "metadata": {
    "ExecuteTime": {
     "end_time": "2021-06-30T23:16:36.557640Z",
     "start_time": "2021-06-30T23:16:36.541668Z"
    }
   },
   "outputs": [
    {
     "name": "stdout",
     "output_type": "stream",
     "text": [
      "w0 = -0.25792678833856764\n"
     ]
    }
   ],
   "source": [
    "w0 =  LRp.intercept_\r\n",
    "for i in w0:\r\n",
    "    print('w0 =',i)"
   ]
  },
  {
   "cell_type": "markdown",
   "metadata": {
    "ExecuteTime": {
     "end_time": "2021-06-30T22:00:58.013817Z",
     "start_time": "2021-06-30T22:00:58.010827Z"
    }
   },
   "source": [
    "## Obtenga el resto de los parámetros $w_1,w_2 ...,w_n$  \n",
    "\n",
    "quizá tenga que investigar un poco cómo obtenerlos, ya que es un poco confusa la documentación oficial ... pero lo vimos en materias anteriores ... si mi memoria no me falla cuando estudiamos Regresión Lineal ...\n",
    "\n",
    "Muestre los valores obtenidos:"
   ]
  },
  {
   "cell_type": "code",
   "execution_count": 22,
   "metadata": {},
   "outputs": [
    {
     "data": {
      "text/html": [
       "<div>\n",
       "<style scoped>\n",
       "    .dataframe tbody tr th:only-of-type {\n",
       "        vertical-align: middle;\n",
       "    }\n",
       "\n",
       "    .dataframe tbody tr th {\n",
       "        vertical-align: top;\n",
       "    }\n",
       "\n",
       "    .dataframe thead th {\n",
       "        text-align: right;\n",
       "    }\n",
       "</style>\n",
       "<table border=\"1\" class=\"dataframe\">\n",
       "  <thead>\n",
       "    <tr style=\"text-align: right;\">\n",
       "      <th></th>\n",
       "      <th>w1</th>\n",
       "      <th>w2</th>\n",
       "      <th>w3</th>\n",
       "      <th>w4</th>\n",
       "      <th>w5</th>\n",
       "      <th>w6</th>\n",
       "      <th>w7</th>\n",
       "      <th>w8</th>\n",
       "      <th>w9</th>\n",
       "      <th>w10</th>\n",
       "      <th>w11</th>\n",
       "      <th>w12</th>\n",
       "      <th>w13</th>\n",
       "      <th>w14</th>\n",
       "      <th>w15</th>\n",
       "      <th>w16</th>\n",
       "      <th>w17</th>\n",
       "      <th>w18</th>\n",
       "      <th>w19</th>\n",
       "      <th>w20</th>\n",
       "    </tr>\n",
       "  </thead>\n",
       "  <tbody>\n",
       "    <tr>\n",
       "      <th>0</th>\n",
       "      <td>0.998069</td>\n",
       "      <td>-2.809589</td>\n",
       "      <td>0.822913</td>\n",
       "      <td>-0.069418</td>\n",
       "      <td>-1.779331</td>\n",
       "      <td>-0.356276</td>\n",
       "      <td>1.721779</td>\n",
       "      <td>1.607665</td>\n",
       "      <td>1.310803</td>\n",
       "      <td>-0.069418</td>\n",
       "      <td>0.036419</td>\n",
       "      <td>0.580331</td>\n",
       "      <td>0.078954</td>\n",
       "      <td>2.80712</td>\n",
       "      <td>-1.428765</td>\n",
       "      <td>-1.57178</td>\n",
       "      <td>-0.986822</td>\n",
       "      <td>0.042736</td>\n",
       "      <td>-0.44331</td>\n",
       "      <td>-0.44331</td>\n",
       "    </tr>\n",
       "  </tbody>\n",
       "</table>\n",
       "</div>"
      ],
      "text/plain": [
       "         w1        w2        w3        w4        w5        w6        w7  \\\n",
       "0  0.998069 -2.809589  0.822913 -0.069418 -1.779331 -0.356276  1.721779   \n",
       "\n",
       "         w8        w9       w10       w11       w12       w13      w14  \\\n",
       "0  1.607665  1.310803 -0.069418  0.036419  0.580331  0.078954  2.80712   \n",
       "\n",
       "        w15      w16       w17       w18      w19      w20  \n",
       "0 -1.428765 -1.57178 -0.986822  0.042736 -0.44331 -0.44331  "
      ]
     },
     "execution_count": 22,
     "metadata": {},
     "output_type": "execute_result"
    }
   ],
   "source": [
    "w = pd.DataFrame(LRp.coef_)\r\n",
    "for i in range(w.shape[1]):\r\n",
    "    w.rename(columns={i:('w'+str(i+1))}, inplace=True)\r\n",
    "w"
   ]
  },
  {
   "cell_type": "markdown",
   "metadata": {},
   "source": [
    "Debería tener tantos elementos como features, verifique por las dudas."
   ]
  },
  {
   "cell_type": "markdown",
   "metadata": {
    "ExecuteTime": {
     "end_time": "2021-06-30T22:04:16.939406Z",
     "start_time": "2021-06-30T22:04:16.935453Z"
    }
   },
   "source": [
    "## Otenga el valor de $w_1$ \n",
    "\n",
    "llámelo w1 y muéstrelo"
   ]
  },
  {
   "cell_type": "code",
   "execution_count": 23,
   "metadata": {
    "ExecuteTime": {
     "end_time": "2021-06-30T23:16:36.585550Z",
     "start_time": "2021-06-30T23:16:36.578551Z"
    }
   },
   "outputs": [
    {
     "data": {
      "text/plain": [
       "0    0.998069\n",
       "Name: w1, dtype: float64"
      ]
     },
     "execution_count": 23,
     "metadata": {},
     "output_type": "execute_result"
    }
   ],
   "source": [
    "w['w1']"
   ]
  },
  {
   "cell_type": "markdown",
   "metadata": {},
   "source": [
    "Supongamos que el problema trataba sobre la capacidad de muchos medicamentos de inactivar un virus.   \n",
    "\n",
    "- Cada observación corresponde a un medicamento distinto.  \n",
    "- Cada feature es la cantidad de determinadas sustancias que formaban parte de cada medicamento,  \n",
    "- la variable y, el target, indica si el medicamento efectivamente inactiva al virus (y=1) o no (y=0).  "
   ]
  },
  {
   "cell_type": "markdown",
   "metadata": {},
   "source": [
    "## Muestre los pronósticos que entrega su modelo de producción para los 4 primeros medicamentos del DataSet orginal (X)"
   ]
  },
  {
   "cell_type": "code",
   "execution_count": 24,
   "metadata": {
    "ExecuteTime": {
     "end_time": "2021-06-30T23:16:36.594542Z",
     "start_time": "2021-06-30T23:16:36.586547Z"
    }
   },
   "outputs": [
    {
     "data": {
      "text/html": [
       "<div>\n",
       "<style scoped>\n",
       "    .dataframe tbody tr th:only-of-type {\n",
       "        vertical-align: middle;\n",
       "    }\n",
       "\n",
       "    .dataframe tbody tr th {\n",
       "        vertical-align: top;\n",
       "    }\n",
       "\n",
       "    .dataframe thead th {\n",
       "        text-align: right;\n",
       "    }\n",
       "</style>\n",
       "<table border=\"1\" class=\"dataframe\">\n",
       "  <thead>\n",
       "    <tr style=\"text-align: right;\">\n",
       "      <th></th>\n",
       "      <th>x1</th>\n",
       "      <th>x2</th>\n",
       "      <th>x3</th>\n",
       "      <th>x4</th>\n",
       "      <th>x5</th>\n",
       "      <th>x6</th>\n",
       "      <th>x7</th>\n",
       "      <th>x8</th>\n",
       "      <th>x9</th>\n",
       "      <th>x10</th>\n",
       "      <th>x11</th>\n",
       "      <th>x12</th>\n",
       "      <th>x13</th>\n",
       "      <th>x14</th>\n",
       "      <th>x15</th>\n",
       "      <th>x16</th>\n",
       "      <th>x17</th>\n",
       "      <th>x18</th>\n",
       "      <th>x19</th>\n",
       "      <th>x20</th>\n",
       "    </tr>\n",
       "  </thead>\n",
       "  <tbody>\n",
       "    <tr>\n",
       "      <th>0</th>\n",
       "      <td>0.097990</td>\n",
       "      <td>0.340667</td>\n",
       "      <td>-0.242157</td>\n",
       "      <td>0.134337</td>\n",
       "      <td>-0.271241</td>\n",
       "      <td>0.130791</td>\n",
       "      <td>0.111032</td>\n",
       "      <td>-0.174739</td>\n",
       "      <td>-0.255644</td>\n",
       "      <td>0.134337</td>\n",
       "      <td>0.169878</td>\n",
       "      <td>0.460179</td>\n",
       "      <td>-0.321191</td>\n",
       "      <td>-0.010534</td>\n",
       "      <td>-0.120602</td>\n",
       "      <td>-0.164123</td>\n",
       "      <td>0.409250</td>\n",
       "      <td>-0.183973</td>\n",
       "      <td>0.085108</td>\n",
       "      <td>0.085108</td>\n",
       "    </tr>\n",
       "    <tr>\n",
       "      <th>1</th>\n",
       "      <td>0.737100</td>\n",
       "      <td>-0.220382</td>\n",
       "      <td>0.401955</td>\n",
       "      <td>-0.711231</td>\n",
       "      <td>0.572058</td>\n",
       "      <td>0.196666</td>\n",
       "      <td>0.452551</td>\n",
       "      <td>0.217239</td>\n",
       "      <td>0.673526</td>\n",
       "      <td>-0.711231</td>\n",
       "      <td>-0.403847</td>\n",
       "      <td>0.054373</td>\n",
       "      <td>-0.301104</td>\n",
       "      <td>-0.160751</td>\n",
       "      <td>0.014660</td>\n",
       "      <td>-0.024911</td>\n",
       "      <td>0.169984</td>\n",
       "      <td>-0.220774</td>\n",
       "      <td>-0.336932</td>\n",
       "      <td>-0.336932</td>\n",
       "    </tr>\n",
       "    <tr>\n",
       "      <th>2</th>\n",
       "      <td>-0.121484</td>\n",
       "      <td>-0.175109</td>\n",
       "      <td>0.271544</td>\n",
       "      <td>0.316087</td>\n",
       "      <td>-0.259378</td>\n",
       "      <td>-0.006024</td>\n",
       "      <td>-0.106266</td>\n",
       "      <td>0.425087</td>\n",
       "      <td>-0.002332</td>\n",
       "      <td>0.316087</td>\n",
       "      <td>-0.427018</td>\n",
       "      <td>-0.028487</td>\n",
       "      <td>-0.004035</td>\n",
       "      <td>0.299433</td>\n",
       "      <td>0.287323</td>\n",
       "      <td>-0.334432</td>\n",
       "      <td>0.050210</td>\n",
       "      <td>-0.242072</td>\n",
       "      <td>-0.098560</td>\n",
       "      <td>-0.098560</td>\n",
       "    </tr>\n",
       "    <tr>\n",
       "      <th>3</th>\n",
       "      <td>0.655278</td>\n",
       "      <td>-0.122830</td>\n",
       "      <td>-0.012052</td>\n",
       "      <td>-0.279743</td>\n",
       "      <td>0.818249</td>\n",
       "      <td>0.137160</td>\n",
       "      <td>0.107157</td>\n",
       "      <td>-0.020696</td>\n",
       "      <td>0.523424</td>\n",
       "      <td>-0.279743</td>\n",
       "      <td>0.136629</td>\n",
       "      <td>-0.255718</td>\n",
       "      <td>-0.329038</td>\n",
       "      <td>-0.285599</td>\n",
       "      <td>0.430301</td>\n",
       "      <td>0.067259</td>\n",
       "      <td>0.264324</td>\n",
       "      <td>0.075779</td>\n",
       "      <td>-0.776885</td>\n",
       "      <td>-0.776885</td>\n",
       "    </tr>\n",
       "  </tbody>\n",
       "</table>\n",
       "</div>"
      ],
      "text/plain": [
       "         x1        x2        x3        x4        x5        x6        x7  \\\n",
       "0  0.097990  0.340667 -0.242157  0.134337 -0.271241  0.130791  0.111032   \n",
       "1  0.737100 -0.220382  0.401955 -0.711231  0.572058  0.196666  0.452551   \n",
       "2 -0.121484 -0.175109  0.271544  0.316087 -0.259378 -0.006024 -0.106266   \n",
       "3  0.655278 -0.122830 -0.012052 -0.279743  0.818249  0.137160  0.107157   \n",
       "\n",
       "         x8        x9       x10       x11       x12       x13       x14  \\\n",
       "0 -0.174739 -0.255644  0.134337  0.169878  0.460179 -0.321191 -0.010534   \n",
       "1  0.217239  0.673526 -0.711231 -0.403847  0.054373 -0.301104 -0.160751   \n",
       "2  0.425087 -0.002332  0.316087 -0.427018 -0.028487 -0.004035  0.299433   \n",
       "3 -0.020696  0.523424 -0.279743  0.136629 -0.255718 -0.329038 -0.285599   \n",
       "\n",
       "        x15       x16       x17       x18       x19       x20  \n",
       "0 -0.120602 -0.164123  0.409250 -0.183973  0.085108  0.085108  \n",
       "1  0.014660 -0.024911  0.169984 -0.220774 -0.336932 -0.336932  \n",
       "2  0.287323 -0.334432  0.050210 -0.242072 -0.098560 -0.098560  \n",
       "3  0.430301  0.067259  0.264324  0.075779 -0.776885 -0.776885  "
      ]
     },
     "execution_count": 24,
     "metadata": {},
     "output_type": "execute_result"
    }
   ],
   "source": [
    "X.sort_index().iloc[0:4] "
   ]
  },
  {
   "cell_type": "code",
   "execution_count": 25,
   "metadata": {},
   "outputs": [
    {
     "data": {
      "text/plain": [
       "array([0, 1, 1, 0])"
      ]
     },
     "execution_count": 25,
     "metadata": {},
     "output_type": "execute_result"
    }
   ],
   "source": [
    "LRp.predict(X.sort_index().iloc[0:4])"
   ]
  },
  {
   "cell_type": "markdown",
   "metadata": {},
   "source": [
    "## Muestre las probabilidades que entrega su modelo de producción para los mismos 4 medicamentos"
   ]
  },
  {
   "cell_type": "markdown",
   "metadata": {},
   "source": [
    "Observe que para cada observación (medicamento) sklearn le devuelve dos probabilidades, la primera es la probabilidad de que y=0, la segunda es la probabilidad de que sea 1 (los  pone en ese orden porque ordena las etiquetas de y de menor a mayor). "
   ]
  },
  {
   "cell_type": "code",
   "execution_count": 26,
   "metadata": {},
   "outputs": [
    {
     "data": {
      "text/plain": [
       "array([[0.76180334, 0.23819666],\n",
       "       [0.10608317, 0.89391683],\n",
       "       [0.09937434, 0.90062566],\n",
       "       [0.76093166, 0.23906834]])"
      ]
     },
     "execution_count": 26,
     "metadata": {},
     "output_type": "execute_result"
    }
   ],
   "source": [
    "LRp.predict_proba(X.sort_index().iloc[0:4])"
   ]
  },
  {
   "cell_type": "markdown",
   "metadata": {},
   "source": [
    "## Muestre la probabilidad  de que el primer medicamento tenga un y=1, llámelo p_1"
   ]
  },
  {
   "cell_type": "code",
   "execution_count": 27,
   "metadata": {
    "ExecuteTime": {
     "end_time": "2021-06-30T23:16:36.617446Z",
     "start_time": "2021-06-30T23:16:36.606475Z"
    }
   },
   "outputs": [
    {
     "data": {
      "text/plain": [
       "array([0.23819666])"
      ]
     },
     "execution_count": 27,
     "metadata": {},
     "output_type": "execute_result"
    }
   ],
   "source": [
    "p_1 = LRp.predict_proba(X.sort_index().iloc[0:1])\r\n",
    "p_1[:,1]"
   ]
  },
  {
   "cell_type": "markdown",
   "metadata": {
    "ExecuteTime": {
     "end_time": "2021-06-30T22:59:28.411800Z",
     "start_time": "2021-06-30T22:59:28.407811Z"
    }
   },
   "source": [
    "## Calcule el odd de que el primer medicamento tenga un y=1, llámelo odd_1  \n",
    "\n",
    "- Recuerde que tenemos una fórmula sencilla para calcular el odd conociendo la probabilidad ..."
   ]
  },
  {
   "cell_type": "code",
   "execution_count": 28,
   "metadata": {
    "ExecuteTime": {
     "end_time": "2021-06-30T23:16:36.636396Z",
     "start_time": "2021-06-30T23:16:36.619441Z"
    }
   },
   "outputs": [
    {
     "data": {
      "text/plain": [
       "0    0.312675\n",
       "Name: 1, dtype: float64"
      ]
     },
     "execution_count": 28,
     "metadata": {},
     "output_type": "execute_result"
    }
   ],
   "source": [
    "p_1 = pd.DataFrame(p_1)\r\n",
    "odd_1 = p_1[1]/(1-p_1[1])\r\n",
    "odd_1"
   ]
  },
  {
   "cell_type": "markdown",
   "metadata": {},
   "source": [
    "## Analice:  \n",
    "Supongamos que nuestro laboratorio es dueño del primer medicamento del dataset, lamentablemente no inactiva a al virus, pero  tiene el plan de aumentar en 1 unidad la cantidad de la sustancia $x_1$ para ver qué pasaría:  "
   ]
  },
  {
   "cell_type": "markdown",
   "metadata": {},
   "source": [
    "### Esto debería aumentar o disminuir el odd_1 y por ende la probabilidad de que el medicamento fuera efectivo contra el virus (y=1)?"
   ]
  },
  {
   "cell_type": "markdown",
   "metadata": {},
   "source": [
    "**Respuesta:**  Al incrementar la variable $x_1$ (que es positiva) en una unidad, el odd se ve **multiplicado** por el número (siempre positivo) $ e^{w_i}$. Por ello, aumentando en 1 en valor de $x_1$, tambien aumentaría la probabilidad de que el medicamento fuera efectivo contra el virus. "
   ]
  },
  {
   "cell_type": "markdown",
   "metadata": {},
   "source": [
    "### Cómo podría calcular cuanto debería valer el nuevo valor de  odd_1? Calcule el nuevo odd_1, llámelo odd_1_nuevo  \n"
   ]
  },
  {
   "cell_type": "code",
   "execution_count": 29,
   "metadata": {},
   "outputs": [
    {
     "data": {
      "text/html": [
       "<div>\n",
       "<style scoped>\n",
       "    .dataframe tbody tr th:only-of-type {\n",
       "        vertical-align: middle;\n",
       "    }\n",
       "\n",
       "    .dataframe tbody tr th {\n",
       "        vertical-align: top;\n",
       "    }\n",
       "\n",
       "    .dataframe thead th {\n",
       "        text-align: right;\n",
       "    }\n",
       "</style>\n",
       "<table border=\"1\" class=\"dataframe\">\n",
       "  <thead>\n",
       "    <tr style=\"text-align: right;\">\n",
       "      <th></th>\n",
       "      <th>x1</th>\n",
       "      <th>x2</th>\n",
       "      <th>x3</th>\n",
       "      <th>x4</th>\n",
       "      <th>x5</th>\n",
       "      <th>x6</th>\n",
       "      <th>x7</th>\n",
       "      <th>x8</th>\n",
       "      <th>x9</th>\n",
       "      <th>x10</th>\n",
       "      <th>x11</th>\n",
       "      <th>x12</th>\n",
       "      <th>x13</th>\n",
       "      <th>x14</th>\n",
       "      <th>x15</th>\n",
       "      <th>x16</th>\n",
       "      <th>x17</th>\n",
       "      <th>x18</th>\n",
       "      <th>x19</th>\n",
       "      <th>x20</th>\n",
       "    </tr>\n",
       "  </thead>\n",
       "  <tbody>\n",
       "    <tr>\n",
       "      <th>0</th>\n",
       "      <td>0.09799</td>\n",
       "      <td>0.340667</td>\n",
       "      <td>-0.242157</td>\n",
       "      <td>0.134337</td>\n",
       "      <td>-0.271241</td>\n",
       "      <td>0.130791</td>\n",
       "      <td>0.111032</td>\n",
       "      <td>-0.174739</td>\n",
       "      <td>-0.255644</td>\n",
       "      <td>0.134337</td>\n",
       "      <td>0.169878</td>\n",
       "      <td>0.460179</td>\n",
       "      <td>-0.321191</td>\n",
       "      <td>-0.010534</td>\n",
       "      <td>-0.120602</td>\n",
       "      <td>-0.164123</td>\n",
       "      <td>0.40925</td>\n",
       "      <td>-0.183973</td>\n",
       "      <td>0.085108</td>\n",
       "      <td>0.085108</td>\n",
       "    </tr>\n",
       "  </tbody>\n",
       "</table>\n",
       "</div>"
      ],
      "text/plain": [
       "        x1        x2        x3        x4        x5        x6        x7  \\\n",
       "0  0.09799  0.340667 -0.242157  0.134337 -0.271241  0.130791  0.111032   \n",
       "\n",
       "         x8        x9       x10       x11       x12       x13       x14  \\\n",
       "0 -0.174739 -0.255644  0.134337  0.169878  0.460179 -0.321191 -0.010534   \n",
       "\n",
       "        x15       x16      x17       x18       x19       x20  \n",
       "0 -0.120602 -0.164123  0.40925 -0.183973  0.085108  0.085108  "
      ]
     },
     "execution_count": 29,
     "metadata": {},
     "output_type": "execute_result"
    }
   ],
   "source": [
    "Fila_1 = X.iloc[0:1]\r\n",
    "Fila_1"
   ]
  },
  {
   "cell_type": "code",
   "execution_count": 30,
   "metadata": {},
   "outputs": [
    {
     "data": {
      "text/html": [
       "<div>\n",
       "<style scoped>\n",
       "    .dataframe tbody tr th:only-of-type {\n",
       "        vertical-align: middle;\n",
       "    }\n",
       "\n",
       "    .dataframe tbody tr th {\n",
       "        vertical-align: top;\n",
       "    }\n",
       "\n",
       "    .dataframe thead th {\n",
       "        text-align: right;\n",
       "    }\n",
       "</style>\n",
       "<table border=\"1\" class=\"dataframe\">\n",
       "  <thead>\n",
       "    <tr style=\"text-align: right;\">\n",
       "      <th></th>\n",
       "      <th>w1</th>\n",
       "      <th>w2</th>\n",
       "      <th>w3</th>\n",
       "      <th>w4</th>\n",
       "      <th>w5</th>\n",
       "      <th>w6</th>\n",
       "      <th>w7</th>\n",
       "      <th>w8</th>\n",
       "      <th>w9</th>\n",
       "      <th>w10</th>\n",
       "      <th>w11</th>\n",
       "      <th>w12</th>\n",
       "      <th>w13</th>\n",
       "      <th>w14</th>\n",
       "      <th>w15</th>\n",
       "      <th>w16</th>\n",
       "      <th>w17</th>\n",
       "      <th>w18</th>\n",
       "      <th>w19</th>\n",
       "      <th>w20</th>\n",
       "    </tr>\n",
       "  </thead>\n",
       "  <tbody>\n",
       "    <tr>\n",
       "      <th>0</th>\n",
       "      <td>0.998069</td>\n",
       "      <td>-2.809589</td>\n",
       "      <td>0.822913</td>\n",
       "      <td>-0.069418</td>\n",
       "      <td>-1.779331</td>\n",
       "      <td>-0.356276</td>\n",
       "      <td>1.721779</td>\n",
       "      <td>1.607665</td>\n",
       "      <td>1.310803</td>\n",
       "      <td>-0.069418</td>\n",
       "      <td>0.036419</td>\n",
       "      <td>0.580331</td>\n",
       "      <td>0.078954</td>\n",
       "      <td>2.80712</td>\n",
       "      <td>-1.428765</td>\n",
       "      <td>-1.57178</td>\n",
       "      <td>-0.986822</td>\n",
       "      <td>0.042736</td>\n",
       "      <td>-0.44331</td>\n",
       "      <td>-0.44331</td>\n",
       "    </tr>\n",
       "  </tbody>\n",
       "</table>\n",
       "</div>"
      ],
      "text/plain": [
       "         w1        w2        w3        w4        w5        w6        w7  \\\n",
       "0  0.998069 -2.809589  0.822913 -0.069418 -1.779331 -0.356276  1.721779   \n",
       "\n",
       "         w8        w9       w10       w11       w12       w13      w14  \\\n",
       "0  1.607665  1.310803 -0.069418  0.036419  0.580331  0.078954  2.80712   \n",
       "\n",
       "        w15      w16       w17       w18      w19      w20  \n",
       "0 -1.428765 -1.57178 -0.986822  0.042736 -0.44331 -0.44331  "
      ]
     },
     "execution_count": 30,
     "metadata": {},
     "output_type": "execute_result"
    }
   ],
   "source": [
    "w"
   ]
  },
  {
   "cell_type": "code",
   "execution_count": 31,
   "metadata": {
    "ExecuteTime": {
     "end_time": "2021-06-30T23:16:36.654347Z",
     "start_time": "2021-06-30T23:16:36.638390Z"
    }
   },
   "outputs": [
    {
     "data": {
      "text/plain": [
       "0   -0.164522\n",
       "dtype: float64"
      ]
     },
     "execution_count": 31,
     "metadata": {},
     "output_type": "execute_result"
    }
   ],
   "source": [
    "z = w0 + w['w1']*(Fila_1['x1']+1) + w['w2']*Fila_1['x2'] + w['w3']*Fila_1['x3'] + w['w4']*Fila_1['x4'] + w['w5']*Fila_1['x5'] + w['w6']*Fila_1['x6'] + w['w7']*Fila_1['x7'] + w['w8']*Fila_1['x8'] + w['w9']*Fila_1['x9'] + w['w10']*Fila_1['x10'] + w['w11']*Fila_1['x11'] + w['w12']*Fila_1['x12'] + w['w13']*Fila_1['x13'] + w['w14']*Fila_1['x14'] + w['w15']*Fila_1['x15'] + w['w16']*Fila_1['x16'] + w['w17']*Fila_1['x17'] + w['w18']*Fila_1['x18'] + w['w19']*Fila_1['x19'] + w['w20']*Fila_1['x20']\r\n",
    "z"
   ]
  },
  {
   "cell_type": "code",
   "execution_count": 41,
   "metadata": {},
   "outputs": [
    {
     "data": {
      "text/plain": [
       "0    0.848299\n",
       "dtype: float64"
      ]
     },
     "execution_count": 41,
     "metadata": {},
     "output_type": "execute_result"
    }
   ],
   "source": [
    "import math\r\n",
    "odd_1_nuevo = math.e**z\r\n",
    "odd_1_nuevo"
   ]
  },
  {
   "cell_type": "markdown",
   "metadata": {},
   "source": [
    "### Calcule cuál debería ser la probabilidad de que y=1 en este situación, llámela p1_nuevo.   \n",
    "\n",
    "- Recuerde que tenemos una fórmula sencilla para calcular la probabilidad conociendo el odd...  por las dudas, era:  \n",
    "\n",
    "$$ p= \\frac{odd} {1+odd}$$"
   ]
  },
  {
   "cell_type": "code",
   "execution_count": 42,
   "metadata": {
    "ExecuteTime": {
     "end_time": "2021-06-30T23:16:36.673296Z",
     "start_time": "2021-06-30T23:16:36.656341Z"
    }
   },
   "outputs": [
    {
     "data": {
      "text/plain": [
       "0    0.458962\n",
       "dtype: float64"
      ]
     },
     "execution_count": 42,
     "metadata": {},
     "output_type": "execute_result"
    }
   ],
   "source": [
    "p_1_nuevo = odd_1_nuevo/(1 + odd_1_nuevo)\r\n",
    "p_1_nuevo"
   ]
  },
  {
   "cell_type": "markdown",
   "metadata": {
    "ExecuteTime": {
     "end_time": "2021-06-30T22:40:09.368083Z",
     "start_time": "2021-06-30T22:40:09.365055Z"
    }
   },
   "source": [
    "### Alcanzaría para que se considere que ahora el medicamento 1 pase a ser efectivo?"
   ]
  },
  {
   "cell_type": "markdown",
   "metadata": {},
   "source": [
    "**Respuesta:** Aumentando la x1 en 1 la probabilidad de que el medicamento uno se conviera en efectivo no es suficiente para ser efectivo, pero dicho valor pasa de 0.23819666 a 0.462579"
   ]
  },
  {
   "cell_type": "markdown",
   "metadata": {
    "ExecuteTime": {
     "end_time": "2021-06-30T23:12:47.224943Z",
     "start_time": "2021-06-30T23:12:47.221946Z"
    }
   },
   "source": [
    "## Qué podriamos aconsejar a este laboratorio que es propietario  del medicamento 1?"
   ]
  },
  {
   "cell_type": "markdown",
   "metadata": {},
   "source": [
    "Respuesta:  Lo que podríamos aconsejar al laboratorio es que trabaje sobre las sustancias x12, x17 y x2 que formaban parte del medicamento ya que, siendo las de mayor valor positivo, incrementándolas se lograra incrementar la probabilidad de que el medicamento se aefectivo contra el virus y, por consecuencia, el odd ratio."
   ]
  },
  {
   "cell_type": "code",
   "execution_count": 43,
   "metadata": {},
   "outputs": [
    {
     "data": {
      "text/html": [
       "<div>\n",
       "<style scoped>\n",
       "    .dataframe tbody tr th:only-of-type {\n",
       "        vertical-align: middle;\n",
       "    }\n",
       "\n",
       "    .dataframe tbody tr th {\n",
       "        vertical-align: top;\n",
       "    }\n",
       "\n",
       "    .dataframe thead th {\n",
       "        text-align: right;\n",
       "    }\n",
       "</style>\n",
       "<table border=\"1\" class=\"dataframe\">\n",
       "  <thead>\n",
       "    <tr style=\"text-align: right;\">\n",
       "      <th></th>\n",
       "      <th>x1</th>\n",
       "      <th>x2</th>\n",
       "      <th>x3</th>\n",
       "      <th>x4</th>\n",
       "      <th>x5</th>\n",
       "      <th>x6</th>\n",
       "      <th>x7</th>\n",
       "      <th>x8</th>\n",
       "      <th>x9</th>\n",
       "      <th>x10</th>\n",
       "      <th>x11</th>\n",
       "      <th>x12</th>\n",
       "      <th>x13</th>\n",
       "      <th>x14</th>\n",
       "      <th>x15</th>\n",
       "      <th>x16</th>\n",
       "      <th>x17</th>\n",
       "      <th>x18</th>\n",
       "      <th>x19</th>\n",
       "      <th>x20</th>\n",
       "    </tr>\n",
       "  </thead>\n",
       "  <tbody>\n",
       "    <tr>\n",
       "      <th>0</th>\n",
       "      <td>0.09799</td>\n",
       "      <td>0.340667</td>\n",
       "      <td>-0.242157</td>\n",
       "      <td>0.134337</td>\n",
       "      <td>-0.271241</td>\n",
       "      <td>0.130791</td>\n",
       "      <td>0.111032</td>\n",
       "      <td>-0.174739</td>\n",
       "      <td>-0.255644</td>\n",
       "      <td>0.134337</td>\n",
       "      <td>0.169878</td>\n",
       "      <td>0.460179</td>\n",
       "      <td>-0.321191</td>\n",
       "      <td>-0.010534</td>\n",
       "      <td>-0.120602</td>\n",
       "      <td>-0.164123</td>\n",
       "      <td>0.40925</td>\n",
       "      <td>-0.183973</td>\n",
       "      <td>0.085108</td>\n",
       "      <td>0.085108</td>\n",
       "    </tr>\n",
       "  </tbody>\n",
       "</table>\n",
       "</div>"
      ],
      "text/plain": [
       "        x1        x2        x3        x4        x5        x6        x7  \\\n",
       "0  0.09799  0.340667 -0.242157  0.134337 -0.271241  0.130791  0.111032   \n",
       "\n",
       "         x8        x9       x10       x11       x12       x13       x14  \\\n",
       "0 -0.174739 -0.255644  0.134337  0.169878  0.460179 -0.321191 -0.010534   \n",
       "\n",
       "        x15       x16      x17       x18       x19       x20  \n",
       "0 -0.120602 -0.164123  0.40925 -0.183973  0.085108  0.085108  "
      ]
     },
     "execution_count": 43,
     "metadata": {},
     "output_type": "execute_result"
    },
    {
     "data": {
      "image/png": "[encoded data removed]",
      "text/plain": [
       "<Figure size 1440x288 with 1 Axes>"
      ]
     },
     "metadata": {
      "needs_background": "light"
     },
     "output_type": "display_data"
    }
   ],
   "source": [
    "import matplotlib.pyplot as plt\r\n",
    "Fila_1 = X.iloc[0:1]\r\n",
    "Fila_1.iloc[0].plot(kind=\"bar\",figsize=(20,4))\r\n",
    "Fila_1"
   ]
  },
  {
   "cell_type": "markdown",
   "metadata": {
    "ExecuteTime": {
     "end_time": "2021-06-30T22:40:51.361788Z",
     "start_time": "2021-06-30T22:40:51.355806Z"
    }
   },
   "source": [
    "**Ahora vamos a verificar nuestros cálculos.**  \n",
    "\n",
    "Si creamos una nueva obsrevación que sea igual en todos los valores de features a la primera de X, excepto que sumemos 1 a la cantidad de $x_1$ y luego le pedimos a nuestro modelo de producción que pronostique las probabilidades, el valor obtenido debería coincidir con el que hemos calculado (si la teoría y nuestros cálculos estaban bien!). Hagámoslo."
   ]
  },
  {
   "cell_type": "markdown",
   "metadata": {},
   "source": [
    "## Cree una nueva observación que sea igual a la del primer medicamento, excepto que la cantidad de $x_1$ esté incrementada en 1.  \n",
    "\n",
    "Llamemos a este nuevo medicamento M1. (Puede ser más engorroso de lo que parece a primera vista ...)"
   ]
  },
  {
   "cell_type": "code",
   "execution_count": 44,
   "metadata": {},
   "outputs": [
    {
     "data": {
      "text/html": [
       "<div>\n",
       "<style scoped>\n",
       "    .dataframe tbody tr th:only-of-type {\n",
       "        vertical-align: middle;\n",
       "    }\n",
       "\n",
       "    .dataframe tbody tr th {\n",
       "        vertical-align: top;\n",
       "    }\n",
       "\n",
       "    .dataframe thead th {\n",
       "        text-align: right;\n",
       "    }\n",
       "</style>\n",
       "<table border=\"1\" class=\"dataframe\">\n",
       "  <thead>\n",
       "    <tr style=\"text-align: right;\">\n",
       "      <th></th>\n",
       "      <th>x1</th>\n",
       "      <th>x2</th>\n",
       "      <th>x3</th>\n",
       "      <th>x4</th>\n",
       "      <th>x5</th>\n",
       "      <th>x6</th>\n",
       "      <th>x7</th>\n",
       "      <th>x8</th>\n",
       "      <th>x9</th>\n",
       "      <th>x10</th>\n",
       "      <th>x11</th>\n",
       "      <th>x12</th>\n",
       "      <th>x13</th>\n",
       "      <th>x14</th>\n",
       "      <th>x15</th>\n",
       "      <th>x16</th>\n",
       "      <th>x17</th>\n",
       "      <th>x18</th>\n",
       "      <th>x19</th>\n",
       "      <th>x20</th>\n",
       "    </tr>\n",
       "  </thead>\n",
       "  <tbody>\n",
       "    <tr>\n",
       "      <th>0</th>\n",
       "      <td>1.09799</td>\n",
       "      <td>0.340667</td>\n",
       "      <td>-0.242157</td>\n",
       "      <td>0.134337</td>\n",
       "      <td>-0.271241</td>\n",
       "      <td>0.130791</td>\n",
       "      <td>0.111032</td>\n",
       "      <td>-0.174739</td>\n",
       "      <td>-0.255644</td>\n",
       "      <td>0.134337</td>\n",
       "      <td>0.169878</td>\n",
       "      <td>0.460179</td>\n",
       "      <td>-0.321191</td>\n",
       "      <td>-0.010534</td>\n",
       "      <td>-0.120602</td>\n",
       "      <td>-0.164123</td>\n",
       "      <td>0.40925</td>\n",
       "      <td>-0.183973</td>\n",
       "      <td>0.085108</td>\n",
       "      <td>0.085108</td>\n",
       "    </tr>\n",
       "  </tbody>\n",
       "</table>\n",
       "</div>"
      ],
      "text/plain": [
       "        x1        x2        x3        x4        x5        x6        x7  \\\n",
       "0  1.09799  0.340667 -0.242157  0.134337 -0.271241  0.130791  0.111032   \n",
       "\n",
       "         x8        x9       x10       x11       x12       x13       x14  \\\n",
       "0 -0.174739 -0.255644  0.134337  0.169878  0.460179 -0.321191 -0.010534   \n",
       "\n",
       "        x15       x16      x17       x18       x19       x20  \n",
       "0 -0.120602 -0.164123  0.40925 -0.183973  0.085108  0.085108  "
      ]
     },
     "execution_count": 44,
     "metadata": {},
     "output_type": "execute_result"
    }
   ],
   "source": [
    "M1 = Fila_1.replace({X.iloc[:,0].iloc[0]:X.iloc[:,0].iloc[0]+1})\r\n",
    "M1"
   ]
  },
  {
   "cell_type": "markdown",
   "metadata": {},
   "source": [
    "## Con su modelo de producción calcule la probabilidad de que y sea 1 para M1\n",
    "\n",
    "(Si al pronosticar le da error, lo más probable es que el formato de M1 sea el problema, compárelo con el formato de X ...sklearn es un poco estricto con los formatos de los datos de entrada ...)  \n",
    "\n",
    "- Finalmente muestre que efectivamente la teoría era correcta. Lamentablemente habrá que cambiar más que una unidad para que el medicamento sea efectivo contra el virus!"
   ]
  },
  {
   "cell_type": "markdown",
   "metadata": {},
   "source": [
    "Probabilidad"
   ]
  },
  {
   "cell_type": "code",
   "execution_count": 45,
   "metadata": {},
   "outputs": [
    {
     "data": {
      "text/plain": [
       "0    0.458962\n",
       "Name: 1, dtype: float64"
      ]
     },
     "execution_count": 45,
     "metadata": {},
     "output_type": "execute_result"
    }
   ],
   "source": [
    "probabilidad_M1 = pd.DataFrame(LRp.predict_proba(M1))\r\n",
    "probabilidad_M1[1]"
   ]
  },
  {
   "cell_type": "markdown",
   "metadata": {},
   "source": [
    "Odd"
   ]
  },
  {
   "cell_type": "code",
   "execution_count": 46,
   "metadata": {},
   "outputs": [
    {
     "data": {
      "text/plain": [
       "0    0.848299\n",
       "Name: 1, dtype: float64"
      ]
     },
     "execution_count": 46,
     "metadata": {},
     "output_type": "execute_result"
    }
   ],
   "source": [
    "odd_M1 = probabilidad_M1[1]/(1-probabilidad_M1[1])\r\n",
    "odd_M1"
   ]
  },
  {
   "cell_type": "markdown",
   "metadata": {},
   "source": [
    "Probabilidad calculada manualmente"
   ]
  },
  {
   "cell_type": "code",
   "execution_count": 47,
   "metadata": {},
   "outputs": [
    {
     "data": {
      "text/plain": [
       "0    0.458962\n",
       "dtype: float64"
      ]
     },
     "execution_count": 47,
     "metadata": {},
     "output_type": "execute_result"
    }
   ],
   "source": [
    "p_1_nuevo"
   ]
  },
  {
   "cell_type": "code",
   "execution_count": 48,
   "metadata": {},
   "outputs": [
    {
     "data": {
      "text/plain": [
       "0    0.848299\n",
       "dtype: float64"
      ]
     },
     "execution_count": 48,
     "metadata": {},
     "output_type": "execute_result"
    }
   ],
   "source": [
    "odd_1_nuevo"
   ]
  },
  {
   "cell_type": "code",
   "execution_count": null,
   "metadata": {},
   "outputs": [],
   "source": []
  }
 ],
 "metadata": {
  "hide_input": false,
  "interpreter": {
   "hash": "744cb06b9270447e90060e3027ed3a462d5f3831a642d98eaed57a6b2c92f1cf"
  },
  "kernelspec": {
   "display_name": "Python 3.8.8 64-bit ('Redes_Neuronales': conda)",
   "name": "python3"
  },
  "language_info": {
   "codemirror_mode": {
    "name": "ipython",
    "version": 3
   },
   "file_extension": ".py",
   "mimetype": "text/x-python",
   "name": "python",
   "nbconvert_exporter": "python",
   "pygments_lexer": "ipython3",
   "version": "3.8.8"
  },
  "toc": {
   "base_numbering": 1,
   "nav_menu": {},
   "number_sections": true,
   "sideBar": true,
   "skip_h1_title": true,
   "title_cell": "Tabla de Contenidos",
   "title_sidebar": "Contenidos",
   "toc_cell": false,
   "toc_position": {},
   "toc_section_display": true,
   "toc_window_display": true
  },
  "varInspector": {
   "cols": {
    "lenName": 16,
    "lenType": 16,
    "lenVar": 40
   },
   "kernels_config": {
    "python": {
     "delete_cmd_postfix": "",
     "delete_cmd_prefix": "del ",
     "library": "var_list.py",
     "varRefreshCmd": "print(var_dic_list())"
    },
    "r": {
     "delete_cmd_postfix": ") ",
     "delete_cmd_prefix": "rm(",
     "library": "var_list.r",
     "varRefreshCmd": "cat(var_dic_list()) "
    }
   },
   "types_to_exclude": [
    "module",
    "function",
    "builtin_function_or_method",
    "instance",
    "_Feature"
   ],
   "window_display": false
  }
 },
 "nbformat": 4,
 "nbformat_minor": 5
}