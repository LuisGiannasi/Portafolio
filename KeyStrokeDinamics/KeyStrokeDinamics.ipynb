{
 "cells": [
  {
   "cell_type": "code",
   "execution_count": 186,
   "metadata": {},
   "outputs": [],
   "source": [
    "import pandas as pd\n",
    "import numpy as np\n",
    "import pymysql"
   ]
  },
  {
   "cell_type": "code",
   "execution_count": 187,
   "metadata": {},
   "outputs": [],
   "source": [
    "conexion = pymysql.connect(\n",
    "    host=\"localhost\",\n",
    "    user=\"root\",\n",
    "    # password=\"123456\",\n",
    "    database=\"cidia_pp2\",\n",
    "    port=3306)\n",
    "query = 'SELECT * FROM tiempos_por_tecla where (tecla <= 47 or tecla >= 58)  and tecla <> 44 and tecla <> 46 and modo = 1 order by tiempo_id'    \n",
    "query1 = 'SELECT usuario,usuario_id FROM usuarios ORDER BY usuario_id'\n",
    "query2 = 'select usuarios.usuario,usuarios.usuario_id,(select count(distinct practica) from tiempos_por_tecla where tiempos_por_tecla.usuario=usuarios.usuario_id and modo=1) as frases_largas,(select count(distinct practica) from tiempos_por_tecla where tiempos_por_tecla.usuario=usuarios.usuario_id and modo=2) as frases_cortas from usuarios order by (frases_largas+frases_cortas) desc'\n",
    "\n",
    "df_usuarios = pd.read_sql(query1, conexion)\n",
    "df_datos = pd.read_sql(query, conexion)\n",
    "df_cargas =pd.read_sql(query2, conexion)"
   ]
  },
  {
   "cell_type": "code",
   "execution_count": 188,
   "metadata": {},
   "outputs": [
    {
     "output_type": "execute_result",
     "data": {
      "text/plain": [
       "   tiempo_id  usuario  practica  tecla   up  down  anterior  anterior_down  \\\n",
       "0          1        1         1     69   43     0         0              0   \n",
       "1          2        1         1     83  237   157        69              0   \n",
       "2          3        1         1     84  458   330        83            157   \n",
       "3          4        1         1     65  571   426        84            330   \n",
       "4          5        1         1     32  650   572        65            426   \n",
       "\n",
       "   modo  \n",
       "0     1  \n",
       "1     1  \n",
       "2     1  \n",
       "3     1  \n",
       "4     1  "
      ],
      "text/html": "<div>\n<style scoped>\n    .dataframe tbody tr th:only-of-type {\n        vertical-align: middle;\n    }\n\n    .dataframe tbody tr th {\n        vertical-align: top;\n    }\n\n    .dataframe thead th {\n        text-align: right;\n    }\n</style>\n<table border=\"1\" class=\"dataframe\">\n  <thead>\n    <tr style=\"text-align: right;\">\n      <th></th>\n      <th>tiempo_id</th>\n      <th>usuario</th>\n      <th>practica</th>\n      <th>tecla</th>\n      <th>up</th>\n      <th>down</th>\n      <th>anterior</th>\n      <th>anterior_down</th>\n      <th>modo</th>\n    </tr>\n  </thead>\n  <tbody>\n    <tr>\n      <th>0</th>\n      <td>1</td>\n      <td>1</td>\n      <td>1</td>\n      <td>69</td>\n      <td>43</td>\n      <td>0</td>\n      <td>0</td>\n      <td>0</td>\n      <td>1</td>\n    </tr>\n    <tr>\n      <th>1</th>\n      <td>2</td>\n      <td>1</td>\n      <td>1</td>\n      <td>83</td>\n      <td>237</td>\n      <td>157</td>\n      <td>69</td>\n      <td>0</td>\n      <td>1</td>\n    </tr>\n    <tr>\n      <th>2</th>\n      <td>3</td>\n      <td>1</td>\n      <td>1</td>\n      <td>84</td>\n      <td>458</td>\n      <td>330</td>\n      <td>83</td>\n      <td>157</td>\n      <td>1</td>\n    </tr>\n    <tr>\n      <th>3</th>\n      <td>4</td>\n      <td>1</td>\n      <td>1</td>\n      <td>65</td>\n      <td>571</td>\n      <td>426</td>\n      <td>84</td>\n      <td>330</td>\n      <td>1</td>\n    </tr>\n    <tr>\n      <th>4</th>\n      <td>5</td>\n      <td>1</td>\n      <td>1</td>\n      <td>32</td>\n      <td>650</td>\n      <td>572</td>\n      <td>65</td>\n      <td>426</td>\n      <td>1</td>\n    </tr>\n  </tbody>\n</table>\n</div>"
     },
     "metadata": {},
     "execution_count": 188
    }
   ],
   "source": [
    "df_datos.head()"
   ]
  },
  {
   "source": [
    "### Se calculan nuevas colmnas con restas entre UP, DOWN y DOWN ANTERIOR"
   ],
   "cell_type": "markdown",
   "metadata": {}
  },
  {
   "cell_type": "code",
   "execution_count": 189,
   "metadata": {},
   "outputs": [
    {
     "output_type": "execute_result",
     "data": {
      "text/plain": [
       "   tiempo_id  usuario  practica  tecla   up  down  anterior  anterior_down  \\\n",
       "0          1        1         1     69   43     0         0              0   \n",
       "1          2        1         1     83  237   157        69              0   \n",
       "2          3        1         1     84  458   330        83            157   \n",
       "3          4        1         1     65  571   426        84            330   \n",
       "4          5        1         1     32  650   572        65            426   \n",
       "\n",
       "   modo  presion  \n",
       "0     1       43  \n",
       "1     1       80  \n",
       "2     1      128  \n",
       "3     1      145  \n",
       "4     1       78  "
      ],
      "text/html": "<div>\n<style scoped>\n    .dataframe tbody tr th:only-of-type {\n        vertical-align: middle;\n    }\n\n    .dataframe tbody tr th {\n        vertical-align: top;\n    }\n\n    .dataframe thead th {\n        text-align: right;\n    }\n</style>\n<table border=\"1\" class=\"dataframe\">\n  <thead>\n    <tr style=\"text-align: right;\">\n      <th></th>\n      <th>tiempo_id</th>\n      <th>usuario</th>\n      <th>practica</th>\n      <th>tecla</th>\n      <th>up</th>\n      <th>down</th>\n      <th>anterior</th>\n      <th>anterior_down</th>\n      <th>modo</th>\n      <th>presion</th>\n    </tr>\n  </thead>\n  <tbody>\n    <tr>\n      <th>0</th>\n      <td>1</td>\n      <td>1</td>\n      <td>1</td>\n      <td>69</td>\n      <td>43</td>\n      <td>0</td>\n      <td>0</td>\n      <td>0</td>\n      <td>1</td>\n      <td>43</td>\n    </tr>\n    <tr>\n      <th>1</th>\n      <td>2</td>\n      <td>1</td>\n      <td>1</td>\n      <td>83</td>\n      <td>237</td>\n      <td>157</td>\n      <td>69</td>\n      <td>0</td>\n      <td>1</td>\n      <td>80</td>\n    </tr>\n    <tr>\n      <th>2</th>\n      <td>3</td>\n      <td>1</td>\n      <td>1</td>\n      <td>84</td>\n      <td>458</td>\n      <td>330</td>\n      <td>83</td>\n      <td>157</td>\n      <td>1</td>\n      <td>128</td>\n    </tr>\n    <tr>\n      <th>3</th>\n      <td>4</td>\n      <td>1</td>\n      <td>1</td>\n      <td>65</td>\n      <td>571</td>\n      <td>426</td>\n      <td>84</td>\n      <td>330</td>\n      <td>1</td>\n      <td>145</td>\n    </tr>\n    <tr>\n      <th>4</th>\n      <td>5</td>\n      <td>1</td>\n      <td>1</td>\n      <td>32</td>\n      <td>650</td>\n      <td>572</td>\n      <td>65</td>\n      <td>426</td>\n      <td>1</td>\n      <td>78</td>\n    </tr>\n  </tbody>\n</table>\n</div>"
     },
     "metadata": {},
     "execution_count": 189
    }
   ],
   "source": [
    "df_datos['presion'] = df_datos.up - df_datos.down\n",
    "df_datos.head()"
   ]
  },
  {
   "cell_type": "code",
   "execution_count": 190,
   "metadata": {},
   "outputs": [
    {
     "output_type": "execute_result",
     "data": {
      "text/plain": [
       "   tiempo_id  usuario  practica  tecla   up  down  anterior  anterior_down  \\\n",
       "0          1        1         1     69   43     0         0              0   \n",
       "1          2        1         1     83  237   157        69              0   \n",
       "2          3        1         1     84  458   330        83            157   \n",
       "3          4        1         1     65  571   426        84            330   \n",
       "4          5        1         1     32  650   572        65            426   \n",
       "\n",
       "   modo  presion  down_entre_teclas  \n",
       "0     1       43                  0  \n",
       "1     1       80                157  \n",
       "2     1      128                173  \n",
       "3     1      145                 96  \n",
       "4     1       78                146  "
      ],
      "text/html": "<div>\n<style scoped>\n    .dataframe tbody tr th:only-of-type {\n        vertical-align: middle;\n    }\n\n    .dataframe tbody tr th {\n        vertical-align: top;\n    }\n\n    .dataframe thead th {\n        text-align: right;\n    }\n</style>\n<table border=\"1\" class=\"dataframe\">\n  <thead>\n    <tr style=\"text-align: right;\">\n      <th></th>\n      <th>tiempo_id</th>\n      <th>usuario</th>\n      <th>practica</th>\n      <th>tecla</th>\n      <th>up</th>\n      <th>down</th>\n      <th>anterior</th>\n      <th>anterior_down</th>\n      <th>modo</th>\n      <th>presion</th>\n      <th>down_entre_teclas</th>\n    </tr>\n  </thead>\n  <tbody>\n    <tr>\n      <th>0</th>\n      <td>1</td>\n      <td>1</td>\n      <td>1</td>\n      <td>69</td>\n      <td>43</td>\n      <td>0</td>\n      <td>0</td>\n      <td>0</td>\n      <td>1</td>\n      <td>43</td>\n      <td>0</td>\n    </tr>\n    <tr>\n      <th>1</th>\n      <td>2</td>\n      <td>1</td>\n      <td>1</td>\n      <td>83</td>\n      <td>237</td>\n      <td>157</td>\n      <td>69</td>\n      <td>0</td>\n      <td>1</td>\n      <td>80</td>\n      <td>157</td>\n    </tr>\n    <tr>\n      <th>2</th>\n      <td>3</td>\n      <td>1</td>\n      <td>1</td>\n      <td>84</td>\n      <td>458</td>\n      <td>330</td>\n      <td>83</td>\n      <td>157</td>\n      <td>1</td>\n      <td>128</td>\n      <td>173</td>\n    </tr>\n    <tr>\n      <th>3</th>\n      <td>4</td>\n      <td>1</td>\n      <td>1</td>\n      <td>65</td>\n      <td>571</td>\n      <td>426</td>\n      <td>84</td>\n      <td>330</td>\n      <td>1</td>\n      <td>145</td>\n      <td>96</td>\n    </tr>\n    <tr>\n      <th>4</th>\n      <td>5</td>\n      <td>1</td>\n      <td>1</td>\n      <td>32</td>\n      <td>650</td>\n      <td>572</td>\n      <td>65</td>\n      <td>426</td>\n      <td>1</td>\n      <td>78</td>\n      <td>146</td>\n    </tr>\n  </tbody>\n</table>\n</div>"
     },
     "metadata": {},
     "execution_count": 190
    }
   ],
   "source": [
    "df_datos['down_entre_teclas'] = df_datos.down - df_datos.anterior_down\n",
    "df_datos.head()"
   ]
  },
  {
   "cell_type": "code",
   "execution_count": 191,
   "metadata": {},
   "outputs": [
    {
     "output_type": "execute_result",
     "data": {
      "text/plain": [
       "   tiempo_id  usuario  practica  tecla   up  down  anterior  anterior_down  \\\n",
       "0          1        1         1     69   43     0         0              0   \n",
       "1          2        1         1     83  237   157        69              0   \n",
       "2          3        1         1     84  458   330        83            157   \n",
       "3          4        1         1     65  571   426        84            330   \n",
       "4          5        1         1     32  650   572        65            426   \n",
       "\n",
       "   modo  presion  down_entre_teclas  up_down_entre_teclas  \n",
       "0     1       43                  0                    43  \n",
       "1     1       80                157                   237  \n",
       "2     1      128                173                   301  \n",
       "3     1      145                 96                   241  \n",
       "4     1       78                146                   224  "
      ],
      "text/html": "<div>\n<style scoped>\n    .dataframe tbody tr th:only-of-type {\n        vertical-align: middle;\n    }\n\n    .dataframe tbody tr th {\n        vertical-align: top;\n    }\n\n    .dataframe thead th {\n        text-align: right;\n    }\n</style>\n<table border=\"1\" class=\"dataframe\">\n  <thead>\n    <tr style=\"text-align: right;\">\n      <th></th>\n      <th>tiempo_id</th>\n      <th>usuario</th>\n      <th>practica</th>\n      <th>tecla</th>\n      <th>up</th>\n      <th>down</th>\n      <th>anterior</th>\n      <th>anterior_down</th>\n      <th>modo</th>\n      <th>presion</th>\n      <th>down_entre_teclas</th>\n      <th>up_down_entre_teclas</th>\n    </tr>\n  </thead>\n  <tbody>\n    <tr>\n      <th>0</th>\n      <td>1</td>\n      <td>1</td>\n      <td>1</td>\n      <td>69</td>\n      <td>43</td>\n      <td>0</td>\n      <td>0</td>\n      <td>0</td>\n      <td>1</td>\n      <td>43</td>\n      <td>0</td>\n      <td>43</td>\n    </tr>\n    <tr>\n      <th>1</th>\n      <td>2</td>\n      <td>1</td>\n      <td>1</td>\n      <td>83</td>\n      <td>237</td>\n      <td>157</td>\n      <td>69</td>\n      <td>0</td>\n      <td>1</td>\n      <td>80</td>\n      <td>157</td>\n      <td>237</td>\n    </tr>\n    <tr>\n      <th>2</th>\n      <td>3</td>\n      <td>1</td>\n      <td>1</td>\n      <td>84</td>\n      <td>458</td>\n      <td>330</td>\n      <td>83</td>\n      <td>157</td>\n      <td>1</td>\n      <td>128</td>\n      <td>173</td>\n      <td>301</td>\n    </tr>\n    <tr>\n      <th>3</th>\n      <td>4</td>\n      <td>1</td>\n      <td>1</td>\n      <td>65</td>\n      <td>571</td>\n      <td>426</td>\n      <td>84</td>\n      <td>330</td>\n      <td>1</td>\n      <td>145</td>\n      <td>96</td>\n      <td>241</td>\n    </tr>\n    <tr>\n      <th>4</th>\n      <td>5</td>\n      <td>1</td>\n      <td>1</td>\n      <td>32</td>\n      <td>650</td>\n      <td>572</td>\n      <td>65</td>\n      <td>426</td>\n      <td>1</td>\n      <td>78</td>\n      <td>146</td>\n      <td>224</td>\n    </tr>\n  </tbody>\n</table>\n</div>"
     },
     "metadata": {},
     "execution_count": 191
    }
   ],
   "source": [
    "df_datos['up_down_entre_teclas'] = df_datos.up - df_datos.anterior_down\n",
    "df_datos.head()"
   ]
  },
  {
   "cell_type": "markdown",
   "metadata": {},
   "source": [
    "## Analisis de los datos"
   ]
  },
  {
   "source": [
    "### Se crea DF para ingresar a modelos"
   ],
   "cell_type": "markdown",
   "metadata": {}
  },
  {
   "cell_type": "code",
   "execution_count": 193,
   "metadata": {
    "tags": []
   },
   "outputs": [],
   "source": [
    "u = None\n",
    "p = None\n",
    "cont = -1\n",
    "teclas = {}\n",
    "temp = {}\n",
    "for i in df_datos.usuario.unique():\n",
    "    df_datos_usuario = df_datos[df_datos.usuario == i]\n",
    "\n",
    "    for j in df_datos_usuario.practica.unique():\n",
    "        cont += 1\n",
    "        teclas = {}\n",
    "        df_datos_practica = df_datos_usuario[df_datos_usuario.practica == j]\n",
    "\n",
    "        if cont == 0:\n",
    "            temp['usuario'] = [i]\n",
    "            temp['practica'] = [j]\n",
    "        else:\n",
    "            temp['usuario'].append(i)\n",
    "            temp['practica'].append(j)\n",
    "\n",
    "        for k in df_datos_practica.index:\n",
    "            if df_datos_practica.loc[k].tecla in teclas:\n",
    "                teclas[df_datos_practica.loc[k].tecla] += 1\n",
    "            else:\n",
    "                teclas[df_datos_practica.loc[k].tecla] = 0\n",
    "            \n",
    "            nom_col = chr(df_datos_practica.loc[k].tecla) + str(teclas[df_datos_practica.loc[k].tecla])\n",
    "\n",
    "            if cont == 0:\n",
    "                # temp['kd_'+nom_col] = [df_datos_practica.loc[k].down]\n",
    "                # temp['ku_'+nom_col] = [df_datos_practica.loc[k].up]\n",
    "                temp['kp_'+nom_col] = [df_datos_practica.loc[k].presion]\n",
    "                #temp['kdet_'+nom_col] = [df_datos_practica.loc[k].down_entre_teclas]\n",
    "                temp['kudet_'+nom_col] = [df_datos_practica.loc[k].up_down_entre_teclas]\n",
    "\n",
    "            else:\n",
    "                # temp['kd_'+nom_col].append(df_datos_practica.loc[k].down)\n",
    "                # temp['ku_'+nom_col].append(df_datos_practica.loc[k].up)\n",
    "                temp['kp_'+nom_col].append(df_datos_practica.loc[k].presion)\n",
    "                #temp['kdet_'+nom_col].append(df_datos_practica.loc[k].down_entre_teclas)\n",
    "                temp['kudet_'+nom_col].append(df_datos_practica.loc[k].up_down_entre_teclas)\n",
    "df1 = pd.DataFrame(temp)\n",
    "df2 = pd.DataFrame(temp)"
   ]
  },
  {
   "source": [
    "### Solo se utilizan las columnas calculadas ya que son restas de las columnas originales UP y DOWN"
   ],
   "cell_type": "markdown",
   "metadata": {}
  },
  {
   "cell_type": "code",
   "execution_count": 194,
   "metadata": {},
   "outputs": [
    {
     "output_type": "execute_result",
     "data": {
      "text/plain": [
       "     usuario  practica  kp_E0  kudet_E0  kp_S0  kudet_S0  kp_T0  kudet_T0  \\\n",
       "0          1         1     43        43     80       237    128       301   \n",
       "1          1         2     32        32     80       224    111       288   \n",
       "2          1         3     45        45     97       238    142       336   \n",
       "3          1         4     63        63    127       254    128       336   \n",
       "4          1         5     64        64     97       256    109       288   \n",
       "..       ...       ...    ...       ...    ...       ...    ...       ...   \n",
       "442       93         5    241       241    144       288    151       280   \n",
       "443       93         6    256       256    145       241    184       344   \n",
       "444       93         7    247       247    104       200    160       272   \n",
       "445       93         8    169       169    135       232    167       295   \n",
       "446       92         1     70        70    103       251     47       231   \n",
       "\n",
       "     kp_A0  kudet_A0  ...  kp_U11  kudet_U11  kp_A25  kudet_A25  kp_R22  \\\n",
       "0      145       241  ...     112        192     158        272     113   \n",
       "1      128       207  ...      97        242     161        258      97   \n",
       "2      144       255  ...     111        222     157        238     108   \n",
       "3      161       241  ...      80        144     176        272      96   \n",
       "4      128       222  ...      95        175     159        271      96   \n",
       "..     ...       ...  ...     ...        ...     ...        ...     ...   \n",
       "442    120       231  ...      80        216     136        240      96   \n",
       "443    159       296  ...      78        207     105        208     104   \n",
       "444    144       264  ...      71        208     136        200     104   \n",
       "445    153       272  ...      88        201      72        160      71   \n",
       "446     95       163  ...      72        223      95        276      78   \n",
       "\n",
       "     kudet_R22  kp_I11  kudet_I11  kp_O13  kudet_O13  \n",
       "0          240      96        176     158        191  \n",
       "1          224     143        240     112        191  \n",
       "2          221     111        172     128        191  \n",
       "3          224     127        207     112        176  \n",
       "4          224     111        177     111        157  \n",
       "..         ...     ...        ...     ...        ...  \n",
       "442        184     135        192      72        159  \n",
       "443        176     152        216      96        200  \n",
       "444        191      96        152      88        144  \n",
       "445       1975     128        176     135        215  \n",
       "446        294      63        277      63        238  \n",
       "\n",
       "[447 rows x 446 columns]"
      ],
      "text/html": "<div>\n<style scoped>\n    .dataframe tbody tr th:only-of-type {\n        vertical-align: middle;\n    }\n\n    .dataframe tbody tr th {\n        vertical-align: top;\n    }\n\n    .dataframe thead th {\n        text-align: right;\n    }\n</style>\n<table border=\"1\" class=\"dataframe\">\n  <thead>\n    <tr style=\"text-align: right;\">\n      <th></th>\n      <th>usuario</th>\n      <th>practica</th>\n      <th>kp_E0</th>\n      <th>kudet_E0</th>\n      <th>kp_S0</th>\n      <th>kudet_S0</th>\n      <th>kp_T0</th>\n      <th>kudet_T0</th>\n      <th>kp_A0</th>\n      <th>kudet_A0</th>\n      <th>...</th>\n      <th>kp_U11</th>\n      <th>kudet_U11</th>\n      <th>kp_A25</th>\n      <th>kudet_A25</th>\n      <th>kp_R22</th>\n      <th>kudet_R22</th>\n      <th>kp_I11</th>\n      <th>kudet_I11</th>\n      <th>kp_O13</th>\n      <th>kudet_O13</th>\n    </tr>\n  </thead>\n  <tbody>\n    <tr>\n      <th>0</th>\n      <td>1</td>\n      <td>1</td>\n      <td>43</td>\n      <td>43</td>\n      <td>80</td>\n      <td>237</td>\n      <td>128</td>\n      <td>301</td>\n      <td>145</td>\n      <td>241</td>\n      <td>...</td>\n      <td>112</td>\n      <td>192</td>\n      <td>158</td>\n      <td>272</td>\n      <td>113</td>\n      <td>240</td>\n      <td>96</td>\n      <td>176</td>\n      <td>158</td>\n      <td>191</td>\n    </tr>\n    <tr>\n      <th>1</th>\n      <td>1</td>\n      <td>2</td>\n      <td>32</td>\n      <td>32</td>\n      <td>80</td>\n      <td>224</td>\n      <td>111</td>\n      <td>288</td>\n      <td>128</td>\n      <td>207</td>\n      <td>...</td>\n      <td>97</td>\n      <td>242</td>\n      <td>161</td>\n      <td>258</td>\n      <td>97</td>\n      <td>224</td>\n      <td>143</td>\n      <td>240</td>\n      <td>112</td>\n      <td>191</td>\n    </tr>\n    <tr>\n      <th>2</th>\n      <td>1</td>\n      <td>3</td>\n      <td>45</td>\n      <td>45</td>\n      <td>97</td>\n      <td>238</td>\n      <td>142</td>\n      <td>336</td>\n      <td>144</td>\n      <td>255</td>\n      <td>...</td>\n      <td>111</td>\n      <td>222</td>\n      <td>157</td>\n      <td>238</td>\n      <td>108</td>\n      <td>221</td>\n      <td>111</td>\n      <td>172</td>\n      <td>128</td>\n      <td>191</td>\n    </tr>\n    <tr>\n      <th>3</th>\n      <td>1</td>\n      <td>4</td>\n      <td>63</td>\n      <td>63</td>\n      <td>127</td>\n      <td>254</td>\n      <td>128</td>\n      <td>336</td>\n      <td>161</td>\n      <td>241</td>\n      <td>...</td>\n      <td>80</td>\n      <td>144</td>\n      <td>176</td>\n      <td>272</td>\n      <td>96</td>\n      <td>224</td>\n      <td>127</td>\n      <td>207</td>\n      <td>112</td>\n      <td>176</td>\n    </tr>\n    <tr>\n      <th>4</th>\n      <td>1</td>\n      <td>5</td>\n      <td>64</td>\n      <td>64</td>\n      <td>97</td>\n      <td>256</td>\n      <td>109</td>\n      <td>288</td>\n      <td>128</td>\n      <td>222</td>\n      <td>...</td>\n      <td>95</td>\n      <td>175</td>\n      <td>159</td>\n      <td>271</td>\n      <td>96</td>\n      <td>224</td>\n      <td>111</td>\n      <td>177</td>\n      <td>111</td>\n      <td>157</td>\n    </tr>\n    <tr>\n      <th>...</th>\n      <td>...</td>\n      <td>...</td>\n      <td>...</td>\n      <td>...</td>\n      <td>...</td>\n      <td>...</td>\n      <td>...</td>\n      <td>...</td>\n      <td>...</td>\n      <td>...</td>\n      <td>...</td>\n      <td>...</td>\n      <td>...</td>\n      <td>...</td>\n      <td>...</td>\n      <td>...</td>\n      <td>...</td>\n      <td>...</td>\n      <td>...</td>\n      <td>...</td>\n      <td>...</td>\n    </tr>\n    <tr>\n      <th>442</th>\n      <td>93</td>\n      <td>5</td>\n      <td>241</td>\n      <td>241</td>\n      <td>144</td>\n      <td>288</td>\n      <td>151</td>\n      <td>280</td>\n      <td>120</td>\n      <td>231</td>\n      <td>...</td>\n      <td>80</td>\n      <td>216</td>\n      <td>136</td>\n      <td>240</td>\n      <td>96</td>\n      <td>184</td>\n      <td>135</td>\n      <td>192</td>\n      <td>72</td>\n      <td>159</td>\n    </tr>\n    <tr>\n      <th>443</th>\n      <td>93</td>\n      <td>6</td>\n      <td>256</td>\n      <td>256</td>\n      <td>145</td>\n      <td>241</td>\n      <td>184</td>\n      <td>344</td>\n      <td>159</td>\n      <td>296</td>\n      <td>...</td>\n      <td>78</td>\n      <td>207</td>\n      <td>105</td>\n      <td>208</td>\n      <td>104</td>\n      <td>176</td>\n      <td>152</td>\n      <td>216</td>\n      <td>96</td>\n      <td>200</td>\n    </tr>\n    <tr>\n      <th>444</th>\n      <td>93</td>\n      <td>7</td>\n      <td>247</td>\n      <td>247</td>\n      <td>104</td>\n      <td>200</td>\n      <td>160</td>\n      <td>272</td>\n      <td>144</td>\n      <td>264</td>\n      <td>...</td>\n      <td>71</td>\n      <td>208</td>\n      <td>136</td>\n      <td>200</td>\n      <td>104</td>\n      <td>191</td>\n      <td>96</td>\n      <td>152</td>\n      <td>88</td>\n      <td>144</td>\n    </tr>\n    <tr>\n      <th>445</th>\n      <td>93</td>\n      <td>8</td>\n      <td>169</td>\n      <td>169</td>\n      <td>135</td>\n      <td>232</td>\n      <td>167</td>\n      <td>295</td>\n      <td>153</td>\n      <td>272</td>\n      <td>...</td>\n      <td>88</td>\n      <td>201</td>\n      <td>72</td>\n      <td>160</td>\n      <td>71</td>\n      <td>1975</td>\n      <td>128</td>\n      <td>176</td>\n      <td>135</td>\n      <td>215</td>\n    </tr>\n    <tr>\n      <th>446</th>\n      <td>92</td>\n      <td>1</td>\n      <td>70</td>\n      <td>70</td>\n      <td>103</td>\n      <td>251</td>\n      <td>47</td>\n      <td>231</td>\n      <td>95</td>\n      <td>163</td>\n      <td>...</td>\n      <td>72</td>\n      <td>223</td>\n      <td>95</td>\n      <td>276</td>\n      <td>78</td>\n      <td>294</td>\n      <td>63</td>\n      <td>277</td>\n      <td>63</td>\n      <td>238</td>\n    </tr>\n  </tbody>\n</table>\n<p>447 rows × 446 columns</p>\n</div>"
     },
     "metadata": {},
     "execution_count": 194
    }
   ],
   "source": [
    "df1"
   ]
  },
  {
   "source": [
    "### Se verifican valores negativos o ceros"
   ],
   "cell_type": "markdown",
   "metadata": {}
  },
  {
   "cell_type": "code",
   "execution_count": 195,
   "metadata": {},
   "outputs": [
    {
     "output_type": "execute_result",
     "data": {
      "text/plain": [
       "0"
      ]
     },
     "metadata": {},
     "execution_count": 195
    }
   ],
   "source": [
    "(df1<0).sum().sum()"
   ]
  },
  {
   "cell_type": "code",
   "execution_count": 196,
   "metadata": {},
   "outputs": [
    {
     "output_type": "execute_result",
     "data": {
      "text/plain": [
       "3"
      ]
     },
     "metadata": {},
     "execution_count": 196
    }
   ],
   "source": [
    "(df1==0).sum().sum()"
   ]
  },
  {
   "cell_type": "code",
   "execution_count": 538,
   "metadata": {},
   "outputs": [],
   "source": [
    "#df_cargas"
   ]
  },
  {
   "cell_type": "code",
   "execution_count": 198,
   "metadata": {},
   "outputs": [
    {
     "output_type": "execute_result",
     "data": {
      "text/plain": [
       "array([ 1, 64, 69, 66, 67, 72, 73, 68, 74, 75, 70, 65, 76, 62, 77, 79, 81,\n",
       "       82, 83, 84, 85, 80, 89, 87, 91, 90, 93, 92], dtype=int64)"
      ]
     },
     "metadata": {},
     "execution_count": 198
    }
   ],
   "source": [
    "usuarios = df_datos['usuario'].unique()\n",
    "usuarios"
   ]
  },
  {
   "cell_type": "markdown",
   "metadata": {},
   "source": [
    "### Determinacion de parametros e hiperparametros"
   ]
  },
  {
   "cell_type": "code",
   "execution_count": 643,
   "metadata": {},
   "outputs": [],
   "source": [
    "grillaC = [2.5e-7,5e-7,1e-6,2.5e-6,5e-6,1e-5,2.5e-5,5e-5,1e-4,2.5e-4,5e-4,1e-3,2.5e-3,5e-3,1e-2,2.5e-2,5e-2,1e-1,2.5e-1,5e-1,7.5e-1,1,1.5,2,5,10,25,50,100,500,1000]\n",
    "Profundidad = 250\n",
    "Vecino = 50\n",
    "usuarios_seleccionados = [ 1, 64, 69, 66, 67, 72, 73, 68, 74, 75, 70, 65, 76, 62, 77, 79, 81, 82, 83, 84, 85, 80, 89, 87, 91, 90, 93, 92]\n",
    "Cantidad_de_cargas_x_usuario = 12\n",
    "Cargas_min_por_usuario = 12\n",
    "Porcentaje_columnas = 100\n",
    "test_size = 30"
   ]
  },
  {
   "cell_type": "code",
   "execution_count": 644,
   "metadata": {
    "tags": []
   },
   "outputs": [],
   "source": [
    "if usuarios_seleccionados != 0:\n",
    "    df_seleccion = df1[df1['usuario'].isin(usuarios_seleccionados)]\n",
    "else:\n",
    "    df_seleccion = df1"
   ]
  },
  {
   "cell_type": "markdown",
   "metadata": {},
   "source": [
    "### Se eliminan los usuarios con pocas cargas:"
   ]
  },
  {
   "source": [
    "#### Usuarios totales:"
   ],
   "cell_type": "markdown",
   "metadata": {}
  },
  {
   "cell_type": "code",
   "execution_count": 645,
   "metadata": {},
   "outputs": [
    {
     "output_type": "execute_result",
     "data": {
      "text/plain": [
       "28"
      ]
     },
     "metadata": {},
     "execution_count": 645
    }
   ],
   "source": [
    "usuarios = df_datos['usuario'].value_counts()\n",
    "usuarios.count()"
   ]
  },
  {
   "cell_type": "code",
   "execution_count": 646,
   "metadata": {},
   "outputs": [],
   "source": [
    "cargas_min = Cargas_min_por_usuario\n",
    "df2 = df_seleccion.groupby(['usuario']).count()>=cargas_min\n",
    "df3= df2[df2.kp_E0 >0]\n",
    "df_carga_ok = df_seleccion[df_seleccion['usuario'].isin(df3.index)]"
   ]
  },
  {
   "cell_type": "code",
   "execution_count": 647,
   "metadata": {},
   "outputs": [
    {
     "output_type": "execute_result",
     "data": {
      "text/plain": [
       "15"
      ]
     },
     "metadata": {},
     "execution_count": 647
    }
   ],
   "source": [
    "usuarios_carga = df_carga_ok['usuario'].value_counts()\n",
    "usuarios_carga.count()"
   ]
  },
  {
   "source": [
    "#### Eliminacion"
   ],
   "cell_type": "markdown",
   "metadata": {}
  },
  {
   "cell_type": "code",
   "execution_count": 648,
   "metadata": {},
   "outputs": [],
   "source": [
    "cargas_min = Cargas_min_por_usuario\n",
    "df2 = df_seleccion.groupby(['usuario']).count()>=cargas_min\n",
    "df3= df2[df2.kp_E0 >0]\n",
    "df_carga_ok = df_seleccion[df_seleccion['usuario'].isin(df3.index)]"
   ]
  },
  {
   "cell_type": "code",
   "execution_count": 649,
   "metadata": {
    "tags": []
   },
   "outputs": [],
   "source": [
    "df_carga_ok2 = pd.DataFrame(columns = df_carga_ok.columns)\n",
    "for i in df_carga_ok['usuario'].unique():\n",
    "    df_prov = df_carga_ok[df_carga_ok.usuario == i].iloc[0:Cantidad_de_cargas_x_usuario]\n",
    "    df_carga_ok2 = pd.concat([df_carga_ok2, df_prov], ignore_index = True)\n",
    "df_carga_ok = df_carga_ok2\n",
    "    "
   ]
  },
  {
   "source": [
    "#### Usuarios con cargas sufucientes para el ingreso a los modelos"
   ],
   "cell_type": "markdown",
   "metadata": {}
  },
  {
   "cell_type": "code",
   "execution_count": 650,
   "metadata": {},
   "outputs": [
    {
     "output_type": "execute_result",
     "data": {
      "text/plain": [
       "15"
      ]
     },
     "metadata": {},
     "execution_count": 650
    }
   ],
   "source": [
    "usuarios = df_carga_ok['usuario'].value_counts()\n",
    "usuarios.count()"
   ]
  },
  {
   "cell_type": "markdown",
   "metadata": {},
   "source": [
    "#### Se eliminan columnas buscando el mejor resultado con menos carga y evitando el overfiting"
   ]
  },
  {
   "cell_type": "code",
   "execution_count": 651,
   "metadata": {},
   "outputs": [],
   "source": [
    "hasta_col=int(df_carga_ok.shape[1]*Porcentaje_columnas/100)\n",
    "df = df_carga_ok.iloc[:,0:hasta_col]"
   ]
  },
  {
   "cell_type": "markdown",
   "metadata": {},
   "source": [
    "## Division en Train y Test"
   ]
  },
  {
   "cell_type": "code",
   "execution_count": 652,
   "metadata": {
    "tags": []
   },
   "outputs": [],
   "source": [
    "from sklearn.model_selection import train_test_split\n",
    "from sklearn import linear_model\n",
    "from sklearn.metrics import f1_score, confusion_matrix"
   ]
  },
  {
   "cell_type": "code",
   "execution_count": 653,
   "metadata": {},
   "outputs": [],
   "source": [
    "X_train,X_test,y_train,y_test=train_test_split(df.drop(axis=1,columns='usuario'),df['usuario'],test_size = test_size/100,random_state=123)\n",
    "y_train = y_train.astype(str)"
   ]
  },
  {
   "cell_type": "markdown",
   "metadata": {},
   "source": [
    "## Normalizacion de los datos"
   ]
  },
  {
   "cell_type": "code",
   "execution_count": 654,
   "metadata": {},
   "outputs": [],
   "source": [
    "# Importamos las librerías para lalimpieza de datos\n",
    "from sklearn.preprocessing import MinMaxScaler\n",
    "from sklearn.compose import ColumnTransformer"
   ]
  },
  {
   "cell_type": "code",
   "execution_count": 655,
   "metadata": {},
   "outputs": [],
   "source": [
    "# Creamos los imputadores:\n",
    "#cols_num = X_train.select_dtypes(np.number).columns\n",
    "cols_num = X_train.columns\n",
    "t_norm = (\"normalizador\",MinMaxScaler(feature_range=(0, 1)),cols_num)\n",
    "#Se genera el Transformador de Columnas para aplicar las transformaciones\n",
    "transformador_columnas = ColumnTransformer(transformers=[t_norm], remainder='passthrough')\n",
    "# Entrenamos el Transformador de Columnas con fit sobre el X_train\n",
    "transformador_columnas.fit(X_train)\n",
    "# Lo aplicamos sobre el X_train y sobre el X_test\n",
    "X_train_transformado = transformador_columnas.transform(X_train)\n",
    "X_test_transformado = transformador_columnas.transform(X_test)\n",
    "# Determinamos el orden de las columnas:\n",
    "cols_orden = cols_num.tolist()"
   ]
  },
  {
   "cell_type": "code",
   "execution_count": 656,
   "metadata": {},
   "outputs": [
    {
     "output_type": "execute_result",
     "data": {
      "text/plain": [
       "(126, 445)"
      ]
     },
     "metadata": {},
     "execution_count": 656
    }
   ],
   "source": [
    "X_train_transformado.shape"
   ]
  },
  {
   "cell_type": "code",
   "execution_count": 657,
   "metadata": {},
   "outputs": [
    {
     "output_type": "execute_result",
     "data": {
      "text/plain": [
       "(54, 445)"
      ]
     },
     "metadata": {},
     "execution_count": 657
    }
   ],
   "source": [
    "X_test_transformado.shape"
   ]
  },
  {
   "cell_type": "code",
   "execution_count": 658,
   "metadata": {},
   "outputs": [],
   "source": [
    "X_train_norm=pd.DataFrame(X_train_transformado, columns = cols_orden) \n",
    "X_test_norm=pd.DataFrame(X_test_transformado, columns = cols_orden)"
   ]
  },
  {
   "cell_type": "code",
   "execution_count": 659,
   "metadata": {},
   "outputs": [
    {
     "output_type": "execute_result",
     "data": {
      "text/plain": [
       "(126, 445)"
      ]
     },
     "metadata": {},
     "execution_count": 659
    }
   ],
   "source": [
    "X_train_norm.shape"
   ]
  },
  {
   "cell_type": "code",
   "execution_count": 660,
   "metadata": {},
   "outputs": [
    {
     "output_type": "execute_result",
     "data": {
      "text/plain": [
       "(54, 445)"
      ]
     },
     "metadata": {},
     "execution_count": 660
    }
   ],
   "source": [
    "X_test_norm.shape"
   ]
  },
  {
   "cell_type": "markdown",
   "metadata": {},
   "source": [
    "#### Division en Validation Train y Validation Test"
   ]
  },
  {
   "cell_type": "code",
   "execution_count": 661,
   "metadata": {},
   "outputs": [],
   "source": [
    "X_valid_train,X_valid_test,y_valid_train,y_valid_test=train_test_split(X_train_norm,y_train,test_size = test_size/100,random_state=123)"
   ]
  },
  {
   "source": [
    "### Modelo Regresión Logística sin Regularización"
   ],
   "cell_type": "markdown",
   "metadata": {}
  },
  {
   "cell_type": "code",
   "execution_count": 662,
   "metadata": {},
   "outputs": [],
   "source": [
    "from sklearn.metrics import confusion_matrix, accuracy_score, f1_score"
   ]
  },
  {
   "cell_type": "code",
   "execution_count": 663,
   "metadata": {},
   "outputs": [],
   "source": [
    "#Creamos el modelo\n",
    "modelo_valid_RLog = linear_model.LogisticRegression(max_iter= 22000,penalty='none',fit_intercept=True, random_state=123)\n",
    "#Genero un DataFrame para incluir el resultado ya que este modelo al ser no paramétrico no necesita iteraciones\n",
    "Arr_valid_RLog= pd.DataFrame(columns=['Hiperpar','Acc_valid_RLog', 'F1_valid_RLog'])\n",
    "#Entrenamos el modelo de Regresión Logística\n",
    "modelo_valid_RLog.fit(X_valid_train,y_valid_train)\n",
    "#Obtenemos los coeficientes del modelo de Regresión Logística\n",
    "y_valid_pred = modelo_valid_RLog.predict(X_valid_test)\n",
    "Acc_valid_RLog=round(accuracy_score(y_valid_test, y_valid_pred),3)\n",
    "F1_valid_RLog=round(f1_score(y_valid_test,y_valid_pred, average='macro'),3)\n",
    "#Incluyo el resultado en el DataFrame creado al comienzo\n",
    "Arr_valid_RLog = Arr_valid_RLog.append({'Hiperpar': 'xx','Acc_valid_RLog': Acc_valid_RLog, 'F1_valid_RLog': F1_valid_RLog}, ignore_index=True)"
   ]
  },
  {
   "cell_type": "code",
   "execution_count": 664,
   "metadata": {},
   "outputs": [
    {
     "output_type": "execute_result",
     "data": {
      "text/plain": [
       "  Hiperpar  Acc_valid_RLog  F1_valid_RLog\n",
       "0       xx           0.974          0.981"
      ],
      "text/html": "<div>\n<style scoped>\n    .dataframe tbody tr th:only-of-type {\n        vertical-align: middle;\n    }\n\n    .dataframe tbody tr th {\n        vertical-align: top;\n    }\n\n    .dataframe thead th {\n        text-align: right;\n    }\n</style>\n<table border=\"1\" class=\"dataframe\">\n  <thead>\n    <tr style=\"text-align: right;\">\n      <th></th>\n      <th>Hiperpar</th>\n      <th>Acc_valid_RLog</th>\n      <th>F1_valid_RLog</th>\n    </tr>\n  </thead>\n  <tbody>\n    <tr>\n      <th>0</th>\n      <td>xx</td>\n      <td>0.974</td>\n      <td>0.981</td>\n    </tr>\n  </tbody>\n</table>\n</div>"
     },
     "metadata": {},
     "execution_count": 664
    }
   ],
   "source": [
    "Arr_valid_RLog"
   ]
  },
  {
   "cell_type": "markdown",
   "metadata": {},
   "source": [
    "### Modelo Regresión Logística con Regularización Ridge"
   ]
  },
  {
   "cell_type": "code",
   "execution_count": 665,
   "metadata": {},
   "outputs": [],
   "source": [
    "from sklearn.linear_model import LogisticRegression\n",
    "from sklearn.linear_model import Ridge"
   ]
  },
  {
   "cell_type": "code",
   "execution_count": 666,
   "metadata": {},
   "outputs": [],
   "source": [
    "#Buscamos la mejor C de Ridge\n",
    "#Genero un DataFrame para incluir la totalidad de los resultados de las iteraciones del for\n",
    "Arr_Log_Ridge= pd.DataFrame(columns=['C','Acc_Log_Ridge', 'F1_Log_Ridge'])\n",
    "\n",
    "for c in grillaC:\n",
    "    Log_Ridge = LogisticRegression(penalty='l2', C=c, max_iter=10000, multi_class='ovr') \n",
    "#Entrenamos el modelo de Ridge (Clasificación)\n",
    "    Log_Ridge.fit(X_valid_train,y_valid_train)            # entrenamos\n",
    "#Obtenemos los coeficientes del modelo de Lasso (Clasificación)\n",
    "    y_pred_Ridge = Log_Ridge.predict(X_valid_test)          #pronosticamos\n",
    "    AC_Log_Ridge = Log_Ridge.score(X_valid_test,y_valid_test)  # evaluamos Accuracy\n",
    "    F1_Log_Ridge = f1_score(y_valid_test,y_pred_Ridge, average=\"macro\") # evaluamos F1\n",
    "#Incluyo los resultados de las iteraciones en el DataFrame creado antes del for\n",
    "    Arr_Log_Ridge = Arr_Log_Ridge.append({'C': c,'Acc_Log_Ridge': AC_Log_Ridge, 'F1_Log_Ridge': F1_Log_Ridge}, ignore_index=True)"
   ]
  },
  {
   "cell_type": "code",
   "execution_count": 667,
   "metadata": {},
   "outputs": [],
   "source": [
    "#Arr_Log_Ridge"
   ]
  },
  {
   "cell_type": "code",
   "execution_count": 668,
   "metadata": {},
   "outputs": [
    {
     "output_type": "execute_result",
     "data": {
      "text/plain": [
       "      Acc_Log_Ridge  F1_Log_Ridge\n",
       "C                                \n",
       "25.0            1.0           1.0"
      ],
      "text/html": "<div>\n<style scoped>\n    .dataframe tbody tr th:only-of-type {\n        vertical-align: middle;\n    }\n\n    .dataframe tbody tr th {\n        vertical-align: top;\n    }\n\n    .dataframe thead th {\n        text-align: right;\n    }\n</style>\n<table border=\"1\" class=\"dataframe\">\n  <thead>\n    <tr style=\"text-align: right;\">\n      <th></th>\n      <th>Acc_Log_Ridge</th>\n      <th>F1_Log_Ridge</th>\n    </tr>\n    <tr>\n      <th>C</th>\n      <th></th>\n      <th></th>\n    </tr>\n  </thead>\n  <tbody>\n    <tr>\n      <th>25.0</th>\n      <td>1.0</td>\n      <td>1.0</td>\n    </tr>\n  </tbody>\n</table>\n</div>"
     },
     "metadata": {},
     "execution_count": 668
    }
   ],
   "source": [
    "#Busco el \"mejor resultado\" en el DataFrame creado tras las iteraciones y asigno nuevo nombre para su uso en la comparacion \n",
    "#entre los mejores resultados de cada modelo\n",
    "AC_L_Ridge = Arr_Log_Ridge.nlargest(1,'Acc_Log_Ridge')\n",
    "ARRidge = AC_L_Ridge.set_index('C')\n",
    "ARRidge"
   ]
  },
  {
   "cell_type": "markdown",
   "metadata": {},
   "source": [
    "### Modelo Regresión Logística con Regularización Lasso"
   ]
  },
  {
   "cell_type": "code",
   "execution_count": 669,
   "metadata": {},
   "outputs": [],
   "source": [
    "from sklearn.linear_model import Lasso"
   ]
  },
  {
   "cell_type": "code",
   "execution_count": 670,
   "metadata": {},
   "outputs": [],
   "source": [
    "#Buscamos la mejor C de Lasso\n",
    "#Genero un DataFrame para incluir la totalidad de los resultados de las iteraciones del for\n",
    "Arr_Log_Lasso= pd.DataFrame(columns=['C','Acc_Log_Lasso', 'F1_Log_Lasso'])\n",
    "\n",
    "for c in grillaC:\n",
    "    Log_Lasso = LogisticRegression(penalty='l1', C=c, max_iter=10000, multi_class='ovr', solver='liblinear') \n",
    "#Entrenamos el modelo de Lasso (Clasificación)\n",
    "    Log_Lasso.fit(X_valid_train,y_valid_train)            # entrenamos\n",
    "#Obtenemos los coeficientes del modelo de Lasso (Clasificación)\n",
    "    y_pred_Lasso = Log_Lasso.predict(X_valid_test)          #pronosticamos\n",
    "    AC_Log_Lasso = Log_Lasso.score(X_valid_test,y_valid_test)  # evaluamos Accuracy\n",
    "    F1_Log_Lasso = f1_score(y_valid_test,y_pred_Lasso, average=\"macro\") # evaluamos F1\n",
    "#Incluyo los resultados de las iteraciones en el DataFrame creado antes del for\n",
    "    Arr_Log_Lasso = Arr_Log_Lasso.append({'C': c,'Acc_Log_Lasso': AC_Log_Lasso, 'F1_Log_Lasso': F1_Log_Lasso}, ignore_index=True)"
   ]
  },
  {
   "cell_type": "code",
   "execution_count": 671,
   "metadata": {},
   "outputs": [],
   "source": [
    "#Arr_Log_Lasso"
   ]
  },
  {
   "cell_type": "code",
   "execution_count": 672,
   "metadata": {},
   "outputs": [
    {
     "output_type": "execute_result",
     "data": {
      "text/plain": [
       "       Acc_Log_Lasso  F1_Log_Lasso\n",
       "C                                 \n",
       "500.0       0.921053      0.937778"
      ],
      "text/html": "<div>\n<style scoped>\n    .dataframe tbody tr th:only-of-type {\n        vertical-align: middle;\n    }\n\n    .dataframe tbody tr th {\n        vertical-align: top;\n    }\n\n    .dataframe thead th {\n        text-align: right;\n    }\n</style>\n<table border=\"1\" class=\"dataframe\">\n  <thead>\n    <tr style=\"text-align: right;\">\n      <th></th>\n      <th>Acc_Log_Lasso</th>\n      <th>F1_Log_Lasso</th>\n    </tr>\n    <tr>\n      <th>C</th>\n      <th></th>\n      <th></th>\n    </tr>\n  </thead>\n  <tbody>\n    <tr>\n      <th>500.0</th>\n      <td>0.921053</td>\n      <td>0.937778</td>\n    </tr>\n  </tbody>\n</table>\n</div>"
     },
     "metadata": {},
     "execution_count": 672
    }
   ],
   "source": [
    "#Busco el \"mejor resultado\" en el DataFrame creado tras las iteraciones y asigno nuevo nombre para su uso en la comparacion \n",
    "#entre los mejores resultados de cada modelo\n",
    "AC_L_Lasso = Arr_Log_Lasso.nlargest(1,'Acc_Log_Lasso')\n",
    "ARLasso = AC_L_Lasso.set_index('C')\n",
    "ARLasso"
   ]
  },
  {
   "cell_type": "markdown",
   "metadata": {},
   "source": [
    "### Modelo Regresión Logística con Elastic Net"
   ]
  },
  {
   "cell_type": "code",
   "execution_count": 673,
   "metadata": {},
   "outputs": [],
   "source": [
    "from sklearn.linear_model import ElasticNet"
   ]
  },
  {
   "cell_type": "code",
   "execution_count": 674,
   "metadata": {},
   "outputs": [],
   "source": [
    "#Buscamos la mejor C de Lasso\n",
    "#Genero un DataFrame para incluir la totalidad de los resultados de las iteraciones del for\n",
    "Arr_Log_Elastic = pd.DataFrame(columns=['C','Acc_Log_Elastic', 'F1_Log_Elastic'])\n",
    "\n",
    "for c in grillaC:\n",
    "    Log_Elastic = LogisticRegression(l1_ratio=0.5, C=c, max_iter=10000) \n",
    "#Entrenamos el modelo de Lasso (Clasificación)\n",
    "    Log_Elastic.fit(X_valid_train,y_valid_train)            # entrenamos\n",
    "#Obtenemos los coeficientes del modelo de Lasso (Clasificación)\n",
    "    y_pred_Elastic = Log_Elastic.predict(X_valid_test)          #pronosticamos\n",
    "    AC_Log_Elastic = Log_Elastic.score(X_valid_test,y_valid_test)  # evaluamos Accuracy\n",
    "    F1_Log_Elastic = f1_score(y_valid_test,y_pred_Elastic, average=\"macro\") # evaluamos F1\n",
    "#Incluyo los resultados de las iteraciones en el DataFrame creado antes del for\n",
    "    Arr_Log_Elastic = Arr_Log_Elastic.append({'C': c,'Acc_Log_Elastic': AC_Log_Elastic, 'F1_Log_Elastic': F1_Log_Elastic}, ignore_index=True)"
   ]
  },
  {
   "cell_type": "code",
   "execution_count": 675,
   "metadata": {},
   "outputs": [],
   "source": [
    "#Arr_Log_Elastic"
   ]
  },
  {
   "cell_type": "code",
   "execution_count": 676,
   "metadata": {},
   "outputs": [
    {
     "output_type": "execute_result",
     "data": {
      "text/plain": [
       "      Acc_Log_Elastic  F1_Log_Elastic\n",
       "C                                    \n",
       "25.0              1.0             1.0"
      ],
      "text/html": "<div>\n<style scoped>\n    .dataframe tbody tr th:only-of-type {\n        vertical-align: middle;\n    }\n\n    .dataframe tbody tr th {\n        vertical-align: top;\n    }\n\n    .dataframe thead th {\n        text-align: right;\n    }\n</style>\n<table border=\"1\" class=\"dataframe\">\n  <thead>\n    <tr style=\"text-align: right;\">\n      <th></th>\n      <th>Acc_Log_Elastic</th>\n      <th>F1_Log_Elastic</th>\n    </tr>\n    <tr>\n      <th>C</th>\n      <th></th>\n      <th></th>\n    </tr>\n  </thead>\n  <tbody>\n    <tr>\n      <th>25.0</th>\n      <td>1.0</td>\n      <td>1.0</td>\n    </tr>\n  </tbody>\n</table>\n</div>"
     },
     "metadata": {},
     "execution_count": 676
    }
   ],
   "source": [
    "#Busco el \"mejor resultado\" en el DataFrame creado tras las iteraciones y asigno nuevo nombre para su uso en la comparacion \n",
    "#entre los mejores resultados de cada modelo\n",
    "AC_L_Elastic = Arr_Log_Elastic.nlargest(1,'Acc_Log_Elastic')\n",
    "ARElastic = AC_L_Elastic.set_index('C')\n",
    "ARElastic"
   ]
  },
  {
   "cell_type": "markdown",
   "metadata": {},
   "source": [
    "### Modelo SVM"
   ]
  },
  {
   "cell_type": "code",
   "execution_count": 677,
   "metadata": {},
   "outputs": [],
   "source": [
    "# Importamos las librerías para los modelos\n",
    "from sklearn import svm\n",
    "from sklearn.svm import LinearSVC"
   ]
  },
  {
   "cell_type": "code",
   "execution_count": 678,
   "metadata": {},
   "outputs": [],
   "source": [
    "#Buscamos la mejor C de Ridge\n",
    "#Genero un DataFrame para incluir la totalidad de los resultados de las iteraciones del for\n",
    "Arr_SVM= pd.DataFrame(columns=['C','Acc_SVM', 'F1_SVM'])\n",
    "\n",
    "for c in grillaC:\n",
    "    SVM = LinearSVC(C=c, loss=\"hinge\",dual=True, max_iter=50000,  tol=0.001 )\n",
    "#Entrenamos el modelo de Ridge (Clasificación)\n",
    "    SVM.fit(X_valid_train,y_valid_train)            # entrenamos\n",
    "#Obtenemos los coeficientes del modelo de Lasso (Clasificación)\n",
    "    y_pred_SVM = SVM.predict(X_valid_test)          #pronosticamos\n",
    "    AC_SVM = SVM.score(X_valid_test,y_valid_test)  # evaluamos Accuracy\n",
    "    F1_SVM = f1_score(y_valid_test,y_pred_SVM, average=\"macro\") # evaluamos F1\n",
    "#Incluyo los resultados de las iteraciones en el DataFrame creado antes del for\n",
    "    Arr_SVM = Arr_SVM.append({'C': c,'Acc_SVM': AC_SVM, 'F1_SVM': F1_SVM}, ignore_index=True)"
   ]
  },
  {
   "cell_type": "code",
   "execution_count": 679,
   "metadata": {},
   "outputs": [],
   "source": [
    "#Arr_SVM"
   ]
  },
  {
   "cell_type": "code",
   "execution_count": 680,
   "metadata": {},
   "outputs": [
    {
     "output_type": "execute_result",
     "data": {
      "text/plain": [
       "      Acc_SVM  F1_SVM\n",
       "C                    \n",
       "0.25      1.0     1.0"
      ],
      "text/html": "<div>\n<style scoped>\n    .dataframe tbody tr th:only-of-type {\n        vertical-align: middle;\n    }\n\n    .dataframe tbody tr th {\n        vertical-align: top;\n    }\n\n    .dataframe thead th {\n        text-align: right;\n    }\n</style>\n<table border=\"1\" class=\"dataframe\">\n  <thead>\n    <tr style=\"text-align: right;\">\n      <th></th>\n      <th>Acc_SVM</th>\n      <th>F1_SVM</th>\n    </tr>\n    <tr>\n      <th>C</th>\n      <th></th>\n      <th></th>\n    </tr>\n  </thead>\n  <tbody>\n    <tr>\n      <th>0.25</th>\n      <td>1.0</td>\n      <td>1.0</td>\n    </tr>\n  </tbody>\n</table>\n</div>"
     },
     "metadata": {},
     "execution_count": 680
    }
   ],
   "source": [
    "#Busco el \"mejor resultado\" en el DataFrame creado tras las iteraciones y asigno nuevo nombre para su uso en la comparacion \n",
    "#entre los mejores resultados de cada modelo\n",
    "AC_SVM = Arr_SVM.nlargest(1,'Acc_SVM')\n",
    "SVM = AC_SVM.set_index('C')\n",
    "SVM"
   ]
  },
  {
   "cell_type": "markdown",
   "metadata": {},
   "source": [
    "### Arbol de desicion"
   ]
  },
  {
   "cell_type": "code",
   "execution_count": 681,
   "metadata": {},
   "outputs": [],
   "source": [
    "# Importamos las librerías para los modelos\n",
    "from sklearn.tree import DecisionTreeClassifier  # para Árbol de Decisión\n",
    "# Importamos las librerías para evaluar\n",
    "from sklearn.metrics import confusion_matrix, accuracy_score, f1_score"
   ]
  },
  {
   "cell_type": "code",
   "execution_count": 682,
   "metadata": {},
   "outputs": [],
   "source": [
    "#Buscamos la mejor profundidad del Árbol\n",
    "#Genero un DataFrame para incluir la totalidad de los resultados de las iteraciones del for\n",
    "Arr_AClass= pd.DataFrame(columns=['Profund','Acc_AClass', 'F1_AClass'])\n",
    "for n in range(1,Profundidad):\n",
    "    modelo_AClass = DecisionTreeClassifier(max_depth = n, random_state=123)\n",
    "#Entrenamos el modelo de Arbol de Decisiciòn (Clasificación)\n",
    "    modelo_AClass.fit(X_valid_train, y_valid_train)\n",
    "#Obtenemos los coeficientes del modelo de Arbol de Decisiciòn (Clasificación)\n",
    "    y_pred_AClass = modelo_AClass.predict(X_valid_test)\n",
    "    AC_AClass = round(accuracy_score(y_valid_test, y_pred_AClass),3)\n",
    "    F1_AClass = round(f1_score(y_valid_test,y_pred_AClass, average='macro'),3)\n",
    "#Incluyo los resultados de las iteraciones en el DataFrame creado antes del for\n",
    "    Arr_AClass = Arr_AClass.append({'Profund': n,'Acc_AClass': AC_AClass, 'F1_AClass': F1_AClass}, ignore_index=True)"
   ]
  },
  {
   "cell_type": "code",
   "execution_count": 683,
   "metadata": {},
   "outputs": [],
   "source": [
    "#Arr_AClass"
   ]
  },
  {
   "cell_type": "code",
   "execution_count": 684,
   "metadata": {},
   "outputs": [
    {
     "output_type": "execute_result",
     "data": {
      "text/plain": [
       "         Acc_AClass  F1_AClass\n",
       "Profund                       \n",
       "14.0          0.579      0.592"
      ],
      "text/html": "<div>\n<style scoped>\n    .dataframe tbody tr th:only-of-type {\n        vertical-align: middle;\n    }\n\n    .dataframe tbody tr th {\n        vertical-align: top;\n    }\n\n    .dataframe thead th {\n        text-align: right;\n    }\n</style>\n<table border=\"1\" class=\"dataframe\">\n  <thead>\n    <tr style=\"text-align: right;\">\n      <th></th>\n      <th>Acc_AClass</th>\n      <th>F1_AClass</th>\n    </tr>\n    <tr>\n      <th>Profund</th>\n      <th></th>\n      <th></th>\n    </tr>\n  </thead>\n  <tbody>\n    <tr>\n      <th>14.0</th>\n      <td>0.579</td>\n      <td>0.592</td>\n    </tr>\n  </tbody>\n</table>\n</div>"
     },
     "metadata": {},
     "execution_count": 684
    }
   ],
   "source": [
    "#Busco el \"mejor resultado\" en el DataFrame creado tras las iteraciones y asigno nuevo nombre para su uso en la comparacion \n",
    "#entre los mejores resultados de cada modelo\n",
    "AClass = Arr_AClass.nlargest(1,'Acc_AClass')\n",
    "ARClass = AClass.set_index('Profund')\n",
    "ARClass"
   ]
  },
  {
   "cell_type": "markdown",
   "metadata": {},
   "source": [
    "### KNN con weights = 'uniform'"
   ]
  },
  {
   "cell_type": "code",
   "execution_count": 685,
   "metadata": {},
   "outputs": [],
   "source": [
    "from sklearn import neighbors           # para kNN\n",
    "import warnings\n",
    "warnings.simplefilter('ignore')"
   ]
  },
  {
   "cell_type": "code",
   "execution_count": 686,
   "metadata": {},
   "outputs": [],
   "source": [
    "#Buscamos la mejor cantidad de Vecinos\n",
    "#Genero un DataFrame para incluir la totalidad de los resultados de las iteraciones del for\n",
    "Arr_KNClassU = pd.DataFrame(columns=['Vecinos','Acc_KNClass', 'F1_KNClass'])\n",
    "for k1 in range(1,Vecino):\n",
    "#Dentro del modelo KNN uso weights='uniform'\n",
    "    modelo_KNClassU = neighbors.KNeighborsClassifier(n_neighbors = k1,weights='uniform')\n",
    "#Entrenamos el modelo de KNN\n",
    "    modelo_KNClassU.fit(X_valid_train,y_valid_train)\n",
    "#Obtenemos los coeficientes de KNN\n",
    "    y_pred_KNClassU = modelo_KNClassU.predict(X_valid_test)\n",
    "    AC_KNClassU = round(accuracy_score(y_valid_test, y_pred_KNClassU),3)\n",
    "    F1_KNClassU = round(f1_score(y_valid_test,y_pred_KNClassU, average='macro'),3)\n",
    "#Incluyo los resultados de las iteraciones en el DataFrame creado antes del for\n",
    "    Arr_KNClassU = Arr_KNClassU.append({'Vecinos': k1,'Acc_KNClass': AC_KNClassU, 'F1_KNClass': F1_KNClassU}, ignore_index=True)"
   ]
  },
  {
   "cell_type": "code",
   "execution_count": 687,
   "metadata": {},
   "outputs": [],
   "source": [
    "#Arr_KNClassU"
   ]
  },
  {
   "cell_type": "code",
   "execution_count": 688,
   "metadata": {},
   "outputs": [
    {
     "output_type": "execute_result",
     "data": {
      "text/plain": [
       "         Acc_KNClass  F1_KNClass\n",
       "Vecinos                         \n",
       "1.0              1.0         1.0"
      ],
      "text/html": "<div>\n<style scoped>\n    .dataframe tbody tr th:only-of-type {\n        vertical-align: middle;\n    }\n\n    .dataframe tbody tr th {\n        vertical-align: top;\n    }\n\n    .dataframe thead th {\n        text-align: right;\n    }\n</style>\n<table border=\"1\" class=\"dataframe\">\n  <thead>\n    <tr style=\"text-align: right;\">\n      <th></th>\n      <th>Acc_KNClass</th>\n      <th>F1_KNClass</th>\n    </tr>\n    <tr>\n      <th>Vecinos</th>\n      <th></th>\n      <th></th>\n    </tr>\n  </thead>\n  <tbody>\n    <tr>\n      <th>1.0</th>\n      <td>1.0</td>\n      <td>1.0</td>\n    </tr>\n  </tbody>\n</table>\n</div>"
     },
     "metadata": {},
     "execution_count": 688
    }
   ],
   "source": [
    "#Busco el \"mejor resultado\" en el DataFrame creado tras las iteraciones y asigno nuevo nombre para su uso en la comparacion \n",
    "#entre los mejores resultados de cada modelo\n",
    "KNClassU = Arr_KNClassU.nlargest(1,'Acc_KNClass')\n",
    "KNN_unif = KNClassU.set_index('Vecinos')\n",
    "KNN_unif"
   ]
  },
  {
   "cell_type": "markdown",
   "metadata": {},
   "source": [
    "### KNN con weights = 'distance'"
   ]
  },
  {
   "cell_type": "code",
   "execution_count": 689,
   "metadata": {},
   "outputs": [],
   "source": [
    "#Buscamos la mejor cantidad de Vecinos\n",
    "#Genero un DataFrame para incluir la totalidad de los resultados de las iteraciones del for\n",
    "Arr_KNClass_dist = pd.DataFrame(columns=['Vecinos','Acc_KNClass_dist', 'F1_KNClass_dist'])\n",
    "for k2 in range(1,Vecino):\n",
    "#Dentro del modelo KNN uso weights='distance'\n",
    "    modelo_KNClass_dist = neighbors.KNeighborsClassifier(n_neighbors = k2,weights='distance')\n",
    "#Entrenamos el modelo de KNN (Clasificación)\n",
    "    modelo_KNClass_dist.fit(X_valid_train,y_valid_train)\n",
    "#Obtenemos los coeficientes de KNN (Clasificación)\n",
    "    y_pred_KNClass_dist = modelo_KNClass_dist.predict(X_valid_test)\n",
    "    AC_KNClass_dist = round(accuracy_score(y_valid_test, y_pred_KNClass_dist),3)\n",
    "    F1_KNClass_dist = round(f1_score(y_valid_test,y_pred_KNClass_dist, average='macro'),3)\n",
    "#Incluyo los resultados de las iteraciones en el DataFrame creado antes del for\n",
    "    Arr_KNClass_dist = Arr_KNClass_dist.append({'Vecinos': k2,'Acc_KNClass_dist': AC_KNClass_dist, 'F1_KNClass_dist': F1_KNClass_dist}, ignore_index=True)"
   ]
  },
  {
   "cell_type": "code",
   "execution_count": 690,
   "metadata": {},
   "outputs": [],
   "source": [
    " #Arr_KNClass_dist"
   ]
  },
  {
   "cell_type": "code",
   "execution_count": 691,
   "metadata": {},
   "outputs": [
    {
     "output_type": "execute_result",
     "data": {
      "text/plain": [
       "         Acc_KNClass_dist  F1_KNClass_dist\n",
       "Vecinos                                   \n",
       "1.0                   1.0              1.0"
      ],
      "text/html": "<div>\n<style scoped>\n    .dataframe tbody tr th:only-of-type {\n        vertical-align: middle;\n    }\n\n    .dataframe tbody tr th {\n        vertical-align: top;\n    }\n\n    .dataframe thead th {\n        text-align: right;\n    }\n</style>\n<table border=\"1\" class=\"dataframe\">\n  <thead>\n    <tr style=\"text-align: right;\">\n      <th></th>\n      <th>Acc_KNClass_dist</th>\n      <th>F1_KNClass_dist</th>\n    </tr>\n    <tr>\n      <th>Vecinos</th>\n      <th></th>\n      <th></th>\n    </tr>\n  </thead>\n  <tbody>\n    <tr>\n      <th>1.0</th>\n      <td>1.0</td>\n      <td>1.0</td>\n    </tr>\n  </tbody>\n</table>\n</div>"
     },
     "metadata": {},
     "execution_count": 691
    }
   ],
   "source": [
    "#Busco el \"mejor resultado\" en el DataFrame creado tras las iteraciones y asigno nuevo nombre para su uso en la comparacion \n",
    "#entre los mejores reultados de cada modelo\n",
    "KNClass_dist = Arr_KNClass_dist.nlargest(1,'Acc_KNClass_dist')\n",
    "KNN_dist = KNClass_dist.set_index('Vecinos')\n",
    "KNN_dist"
   ]
  },
  {
   "cell_type": "markdown",
   "metadata": {},
   "source": [
    "## Comparacion entre Modelos"
   ]
  },
  {
   "cell_type": "code",
   "execution_count": 692,
   "metadata": {},
   "outputs": [
    {
     "output_type": "execute_result",
     "data": {
      "text/plain": [
       "                Pramet       Acc        F1\n",
       "Modelo                                    \n",
       "Reg Log No Reg      xx  0.974000  0.981000\n",
       "Reg Log Ridge     25.0  1.000000  1.000000\n",
       "Reg Log Lasso    500.0  0.921053  0.937778\n",
       "Reg Log Elastic   25.0  1.000000  1.000000\n",
       "SVM               0.25  1.000000  1.000000\n",
       "Arbol de Desic    14.0  0.579000  0.592000\n",
       "KNN_unif           1.0  1.000000  1.000000\n",
       "KNN_dist           1.0  1.000000  1.000000"
      ],
      "text/html": "<div>\n<style scoped>\n    .dataframe tbody tr th:only-of-type {\n        vertical-align: middle;\n    }\n\n    .dataframe tbody tr th {\n        vertical-align: top;\n    }\n\n    .dataframe thead th {\n        text-align: right;\n    }\n</style>\n<table border=\"1\" class=\"dataframe\">\n  <thead>\n    <tr style=\"text-align: right;\">\n      <th></th>\n      <th>Pramet</th>\n      <th>Acc</th>\n      <th>F1</th>\n    </tr>\n    <tr>\n      <th>Modelo</th>\n      <th></th>\n      <th></th>\n      <th></th>\n    </tr>\n  </thead>\n  <tbody>\n    <tr>\n      <th>Reg Log No Reg</th>\n      <td>xx</td>\n      <td>0.974000</td>\n      <td>0.981000</td>\n    </tr>\n    <tr>\n      <th>Reg Log Ridge</th>\n      <td>25.0</td>\n      <td>1.000000</td>\n      <td>1.000000</td>\n    </tr>\n    <tr>\n      <th>Reg Log Lasso</th>\n      <td>500.0</td>\n      <td>0.921053</td>\n      <td>0.937778</td>\n    </tr>\n    <tr>\n      <th>Reg Log Elastic</th>\n      <td>25.0</td>\n      <td>1.000000</td>\n      <td>1.000000</td>\n    </tr>\n    <tr>\n      <th>SVM</th>\n      <td>0.25</td>\n      <td>1.000000</td>\n      <td>1.000000</td>\n    </tr>\n    <tr>\n      <th>Arbol de Desic</th>\n      <td>14.0</td>\n      <td>0.579000</td>\n      <td>0.592000</td>\n    </tr>\n    <tr>\n      <th>KNN_unif</th>\n      <td>1.0</td>\n      <td>1.000000</td>\n      <td>1.000000</td>\n    </tr>\n    <tr>\n      <th>KNN_dist</th>\n      <td>1.0</td>\n      <td>1.000000</td>\n      <td>1.000000</td>\n    </tr>\n  </tbody>\n</table>\n</div>"
     },
     "metadata": {},
     "execution_count": 692
    }
   ],
   "source": [
    "#Uso los DataFrame creados con los \"mejores resultados\" de cada modelo para su comparacion y determinacion del \"modelo definitivo\"\n",
    "Compara = pd.DataFrame({'Modelo': ['Reg Log No Reg','Reg Log Ridge','Reg Log Lasso','Reg Log Elastic','SVM','Arbol de Desic','KNN_unif','KNN_dist'], 'Pramet': [Arr_valid_RLog.iloc[0,0],AC_L_Ridge.iloc[0,0], AC_L_Lasso.iloc[0,0],AC_L_Elastic.iloc[0,0], AC_SVM.iloc[0,0], AClass.iloc[0,0], KNClassU.iloc[0,0], KNClass_dist.iloc[0,0]], 'Acc': [Arr_valid_RLog.iloc[0,1],AC_L_Ridge.iloc[0,1], AC_L_Lasso.iloc[0,1], AC_L_Elastic.iloc[0,1], AC_SVM.iloc[0,1], AClass.iloc[0,1], KNClassU.iloc[0,1], KNClass_dist.iloc[0,1]], 'F1': [Arr_valid_RLog.iloc[0,2],AC_L_Ridge.iloc[0,2], AC_L_Lasso.iloc[0,2], AC_L_Elastic.iloc[0,2], AC_SVM.iloc[0,2], AClass.iloc[0,2], KNClassU.iloc[0,2], KNClass_dist.iloc[0,2]]})\n",
    "Compara = Compara.set_index('Modelo')\n",
    "Compara"
   ]
  },
  {
   "cell_type": "code",
   "execution_count": null,
   "metadata": {},
   "outputs": [],
   "source": []
  }
 ],
 "metadata": {
  "kernelspec": {
   "name": "python374jvsc74a57bd0578fb98e6b2bb0b2720bf7e708791ccfb2d845fef7fd0e8864f5dec88ce352f7",
   "display_name": "Python 3.7.4 64-bit ('base': conda)"
  },
  "language_info": {
   "codemirror_mode": {
    "name": "ipython",
    "version": 3
   },
   "file_extension": ".py",
   "mimetype": "text/x-python",
   "name": "python",
   "nbconvert_exporter": "python",
   "pygments_lexer": "ipython3",
   "version": "3.7.4"
  }
 },
 "nbformat": 4,
 "nbformat_minor": 4
}