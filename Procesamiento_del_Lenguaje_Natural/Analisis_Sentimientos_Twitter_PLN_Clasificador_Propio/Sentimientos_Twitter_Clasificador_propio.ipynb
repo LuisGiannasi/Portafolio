{
 "cells": [
  {
   "cell_type": "code",
   "execution_count": 7,
   "metadata": {},
   "outputs": [],
   "source": [
    "import nltk\n",
    "import json\n",
    "from nltk.corpus import stopwords\n",
    "from sklearn.model_selection import train_test_split\n",
    "import re\n",
    "import pandas as pd"
   ]
  },
  {
   "cell_type": "markdown",
   "metadata": {},
   "source": [
    "## Los Datos\r\n",
    "\r\n",
    "### Inicialmente se obtienen los datos y se filtran solo por tweets clasificados como negativos y positivos. Los tweets neutros fue la clasificación donde se incluyeron aquellos que no podian ser definidos como positivos o negativos o aquellos que no tenian carga emocional (por ejemplo, titulares sin tendencia) "
   ]
  },
  {
   "cell_type": "code",
   "execution_count": 9,
   "metadata": {},
   "outputs": [
    {
     "data": {
      "text/html": [
       "<div>\n",
       "<style scoped>\n",
       "    .dataframe tbody tr th:only-of-type {\n",
       "        vertical-align: middle;\n",
       "    }\n",
       "\n",
       "    .dataframe tbody tr th {\n",
       "        vertical-align: top;\n",
       "    }\n",
       "\n",
       "    .dataframe thead th {\n",
       "        text-align: right;\n",
       "    }\n",
       "</style>\n",
       "<table border=\"1\" class=\"dataframe\">\n",
       "  <thead>\n",
       "    <tr style=\"text-align: right;\">\n",
       "      <th></th>\n",
       "      <th>Id</th>\n",
       "      <th>Tweet</th>\n",
       "      <th>Categoria1</th>\n",
       "      <th>Categoria</th>\n",
       "      <th>Columna1</th>\n",
       "      <th>Fecha</th>\n",
       "      <th>Usuario</th>\n",
       "      <th>Ironia</th>\n",
       "    </tr>\n",
       "  </thead>\n",
       "  <tbody>\n",
       "    <tr>\n",
       "      <th>0</th>\n",
       "      <td>1807</td>\n",
       "      <td>- No politicemos la vacuna\\n- Spot de La Matan...</td>\n",
       "      <td>Positivo</td>\n",
       "      <td>Positivo</td>\n",
       "      <td>NaN</td>\n",
       "      <td>2021-06-24 02:45:05</td>\n",
       "      <td>Leandro Landin</td>\n",
       "      <td>NO</td>\n",
       "    </tr>\n",
       "    <tr>\n",
       "      <th>1</th>\n",
       "      <td>1667</td>\n",
       "      <td>#23Jun #Internacionales El presidente de Argen...</td>\n",
       "      <td>Positivo</td>\n",
       "      <td>Positivo</td>\n",
       "      <td>NaN</td>\n",
       "      <td>2021-06-23 22:43:46</td>\n",
       "      <td>Primicias24</td>\n",
       "      <td>NO</td>\n",
       "    </tr>\n",
       "  </tbody>\n",
       "</table>\n",
       "</div>"
      ],
      "text/plain": [
       "     Id                                              Tweet Categoria1  \\\n",
       "0  1807  - No politicemos la vacuna\\n- Spot de La Matan...   Positivo   \n",
       "1  1667  #23Jun #Internacionales El presidente de Argen...   Positivo   \n",
       "\n",
       "  Categoria Columna1               Fecha         Usuario Ironia  \n",
       "0  Positivo      NaN 2021-06-24 02:45:05  Leandro Landin     NO  \n",
       "1  Positivo      NaN 2021-06-23 22:43:46     Primicias24     NO  "
      ]
     },
     "execution_count": 9,
     "metadata": {},
     "output_type": "execute_result"
    }
   ],
   "source": [
    "df = pd.read_excel('data/Tweets_clasificados_dividido2.xlsx')\r\n",
    "df = df[((df['Categoria'] == 'Positivo') | (df['Categoria'] == 'Negativo'))]\r\n",
    "df.head(2)"
   ]
  },
  {
   "cell_type": "markdown",
   "metadata": {},
   "source": [
    "## Train y Test"
   ]
  },
  {
   "cell_type": "markdown",
   "metadata": {},
   "source": [
    "### División de los datos para entrenamiento y evaluacion. La separacion es de 80% de los datos para entrenamiento y 20% para testeo"
   ]
  },
  {
   "cell_type": "code",
   "execution_count": 10,
   "metadata": {},
   "outputs": [],
   "source": [
    "df_train, df_test =train_test_split(df,test_size=0.2,random_state=123, stratify=df['Categoria'])"
   ]
  },
  {
   "cell_type": "markdown",
   "metadata": {},
   "source": [
    "### Se crea el corpus de palabras de los tweets (tanto positivos como negativos) para su posterior uso para verificar presencia ante los nuevos Tweets y determinar su clasificación"
   ]
  },
  {
   "cell_type": "code",
   "execution_count": 27,
   "metadata": {},
   "outputs": [
    {
     "data": {
      "text/plain": [
       "'en la provincia ya hay 5 millones de bonaerenses vacunadas y vacunados, y acá en alberti mañana llegaremos a las 6000 primeras dosis aplicadas. somos #5millonesdesonrisas. tenemos 5 millones de esperanzas. falta poco para volver a abrazarnos!!!gracias @alferdez @kicillofok!!! y muchisimas gracias presidente señor alberto fernández!!! @lanacion hay segunda dosis, de echo llegaron 500 mil y mañana arranca otro avión rumbo a rusia. más allá del viaje le agradezco al señor presidente alberto fernández por fabricarla....la nación es macri, miente política📦| junto a @alferdez , el diputado nacional por tucumán,  @cisneros_tuc , celebró el 45% de aumento salarial alcanzado por la bancaria, defendió la gestión del gobierno nacional y ratificó su incondicional apoyo al gobernador @juanmanzurok .\\nhttps://t.co/oiolp1av0r #políticaexterior | victoria tolosa paz: claro que hay democracia en #venezuela\\n\\npara la funcionaria @vtolosapaz, alberto fernández fue coherente en su posicionamiento  https://t'"
      ]
     },
     "execution_count": 27,
     "metadata": {},
     "output_type": "execute_result"
    }
   ],
   "source": [
    "corpus_positivo = \"\"\r\n",
    "for text in df_train[df_train['Categoria'] == \"Positivo\"][\"Tweet\"]:\r\n",
    "    corpus_positivo += text + ' '\r\n",
    "\r\n",
    "corpus_positivo = corpus_positivo.lower()\r\n",
    "corpus_positivo[:1000]"
   ]
  },
  {
   "cell_type": "code",
   "execution_count": 28,
   "metadata": {},
   "outputs": [
    {
     "data": {
      "text/plain": [
       "'me hacen reír los que le piden a un mafioso como alberto fernández, que no pierda los estribos... o que no grite... o que le haya cuidado el culo al hijo... no entienden que estamos hablando de un peroncho??? ¡así lo dijo! “no hay vacuna que cure la mente retrógrada del socialismo”: los firmes comentarios de bolsonaro sobre alberto fernández y nicolás maduro (+video) #23jun #venezuela  https://t.co/u6voa0qtq8 @marcelopuella urge definir el nosotros y el ellos. esta, marcelo, es la táctica del tero. el candidato de la oligarquía está en campaña desde hace meses con respaldo de mm, af y biden: sm https://t.co/6rzkjeuqqj https://t.co/mm4jp81mjj 706 muertes y a este ritmo vamos a promediar en 1 o 2 semanas las 1000 por día.\\nmientras tanto alberto fernández permite entrada de viajeros vía ezeiza.\\ncomo antes permitió que se hicieran manifestaciones contra la cuarentena, alentados por tn, a24, ln+.\\nno quiero pensar mal pero #elvirussonellos los cipayos vendepatria de siempre, boicoteando todo'"
      ]
     },
     "execution_count": 28,
     "metadata": {},
     "output_type": "execute_result"
    }
   ],
   "source": [
    "corpus_negativo = \"\"\r\n",
    "for text in df_train[df_train['Categoria'] == \"Negativo\"][\"Tweet\"]:\r\n",
    "    corpus_negativo += text + ' '\r\n",
    "\r\n",
    "corpus_negativo = corpus_negativo.lower()\r\n",
    "corpus_negativo[:1000]"
   ]
  },
  {
   "cell_type": "markdown",
   "metadata": {},
   "source": [
    "### Se realiza la tokenización en palabras de los corpus"
   ]
  },
  {
   "cell_type": "code",
   "execution_count": 29,
   "metadata": {},
   "outputs": [],
   "source": [
    "tokenizador_expreg = nltk.regexp_tokenize\r\n",
    "palabras_positivo = tokenizador_expreg(corpus_positivo, pattern='\\w+')\r\n",
    "palabras_negativo = tokenizador_expreg(corpus_negativo, pattern='\\w+') "
   ]
  },
  {
   "cell_type": "markdown",
   "metadata": {},
   "source": [
    "### Se realiza la eliminacion de las Stopwords procurando que las palabras que se utilicen para la valoración no sean palabras que carezcan de peso"
   ]
  },
  {
   "cell_type": "code",
   "execution_count": 30,
   "metadata": {},
   "outputs": [],
   "source": [
    "def clear_stop_words(palabras):\n",
    "    palabras_limpias = [x for x in palabras if (x not in stop_words) & (len(x) > 1 | x.isalnum())]\n",
    "    return palabras_limpias"
   ]
  },
  {
   "cell_type": "code",
   "execution_count": 31,
   "metadata": {},
   "outputs": [],
   "source": [
    "stop_words = stopwords.words('spanish')\r\n",
    "palabras_positivo = clear_stop_words(palabras_positivo)\r\n",
    "palabras_negativo = clear_stop_words(palabras_negativo)"
   ]
  },
  {
   "cell_type": "markdown",
   "metadata": {},
   "source": [
    "### Un proceso de fuerte peso en este clasificador es eliminalas palabras que son comunes a ambos corpus. Con ello se pretende llevar a la mimina epresion los mismos para que solo queden las palabras mas significativas para la comparación"
   ]
  },
  {
   "cell_type": "code",
   "execution_count": 32,
   "metadata": {},
   "outputs": [],
   "source": [
    "no_comunes_p = [x for x in palabras_positivo if (x not in (palabras_negativo))]\r\n",
    "no_comunes_n = [x for x in palabras_negativo if (x not in (palabras_positivo))]"
   ]
  },
  {
   "cell_type": "markdown",
   "metadata": {},
   "source": [
    "### Se crea el vocabulario final para cada cada categoria"
   ]
  },
  {
   "cell_type": "code",
   "execution_count": 33,
   "metadata": {},
   "outputs": [],
   "source": [
    "def vocabulario(palabras, head=0):\r\n",
    "    serie = pd.Series(palabras)\r\n",
    "    frecuencias = serie.value_counts()\r\n",
    "    if head > 0:\r\n",
    "        return frecuencias.head(head).index  \r\n",
    "    return frecuencias.index"
   ]
  },
  {
   "cell_type": "code",
   "execution_count": 34,
   "metadata": {},
   "outputs": [],
   "source": [
    "vocabulario_positivo = vocabulario(no_comunes_p)\r\n",
    "vocabulario_negativo = vocabulario(no_comunes_n)"
   ]
  },
  {
   "cell_type": "markdown",
   "metadata": {},
   "source": [
    "## Clasificador"
   ]
  },
  {
   "cell_type": "code",
   "execution_count": 35,
   "metadata": {},
   "outputs": [],
   "source": [
    "def clasificador(texto):\n",
    "    texto = texto.lower()\n",
    "    palabras_nuevas = tokenizador_expreg(texto, pattern='\\w+') \n",
    "    palabras_nuevas = clear_stop_words(palabras_nuevas)\n",
    "    \n",
    "    vocabulario_nuevas = vocabulario(palabras_nuevas)\n",
    "    # print(vocabulario_nuevas)\n",
    "\n",
    "    cont_p = len([x for x in vocabulario_nuevas if x in vocabulario_positivo])\n",
    "    cont_n = len([x for x in vocabulario_nuevas if x in vocabulario_negativo])\n",
    "    \n",
    "    coincidencias = {\"Positivo\": cont_p/len(vocabulario_positivo),\n",
    "            \"Negativo\": cont_n/len(vocabulario_negativo)}\n",
    "\n",
    "    if coincidencias[\"Positivo\"] > coincidencias[\"Negativo\"]:\n",
    "        categoria = \"Positivo\"\n",
    "    else:\n",
    "        categoria = \"Negativo\"\n",
    "    \n",
    "    return coincidencias, categoria"
   ]
  },
  {
   "cell_type": "markdown",
   "metadata": {},
   "source": [
    "## Evaluación del clasificador"
   ]
  },
  {
   "cell_type": "markdown",
   "metadata": {},
   "source": [
    "### Se evalúa mediante el calculo del accuracy con todos los datos de testeo"
   ]
  },
  {
   "cell_type": "code",
   "execution_count": 23,
   "metadata": {},
   "outputs": [
    {
     "name": "stdout",
     "output_type": "stream",
     "text": [
      "@caidodelcatre2 Que cerca che gran gestión\n",
      "\n",
      "https://t.co/oqVRfFFqq0\n",
      "categoria real: Positivo\n",
      "categoria pronosticada: Negativo\n",
      "Pertenencia: {'Positivo': 0.0, 'Negativo': 0.0008370535714285714}\n",
      "---------------------------------------- \n",
      "\n",
      "🔴#Jujuy | Para nosotros es importante que tanto Alberto Fernández como Cristina Kirchner sean parte de este proceso, aseguró el candidato a Diputado de Unidad para la Victoria, Diego Palmieri.\n",
      "\n",
      "👉Leelo acá:\n",
      "\n",
      "https://t.co/AevW4opfWV\n",
      "categoria real: Positivo\n",
      "categoria pronosticada: Negativo\n",
      "Pertenencia: {'Positivo': 0.0, 'Negativo': 0.00027901785714285713}\n",
      "---------------------------------------- \n",
      "\n",
      "@KulfasM @Rurales_FARER @CARBAP_ARG @CRAprensa @ruraltucuman En tanto, desde la Mesa de Enlace de Entre Ríos observan con profunda preocupación el anuncio del presidente Alberto Fernández de reabrir sólo de modo parcial las exportaciones de carne, hecho que significa puntualmente que continúan las restricciones a las mismas y que el…\n",
      "categoria real: Negativo\n",
      "categoria pronosticada: Positivo\n",
      "Pertenencia: {'Positivo': 0.004662004662004662, 'Negativo': 0.001953125}\n",
      "---------------------------------------- \n",
      "\n",
      "Mi abuelo de 94 años, esperando la segunda dosis de Sputnik desde hace cuatro meses, covid positivo. Grandes @alferdez, @carlavizzotti, @ginesggarcia, un manejo extraordinario, los felicito por todo, les pongo un diez.\n",
      "categoria real: Positivo\n",
      "categoria pronosticada: Negativo\n",
      "Pertenencia: {'Positivo': 0.0, 'Negativo': 0.0016741071428571428}\n",
      "---------------------------------------- \n",
      "\n",
      "a pesar de ser productor tiene a un 14% de su población inoculada.\n",
      "La comunicación del gobierno de Vladimir Putin no solo fue una ratificación de los acuerdos con la administración de Alberto Fernández, a través de la cartera que conduce Carla Vizzotti, sino también un rechazo👇\n",
      "categoria real: Positivo\n",
      "categoria pronosticada: Negativo\n",
      "Pertenencia: {'Positivo': 0.0, 'Negativo': 0.0008370535714285714}\n",
      "---------------------------------------- \n",
      "\n",
      "📻 [#DuroDeCallar] Guillermo Moreno: Hay un desorden general de la economía porque no se pueden fijar precios y eso es por culpa de las políticas de Alberto Fernández\n",
      "categoria real: Negativo\n",
      "categoria pronosticada: Positivo\n",
      "Pertenencia: {'Positivo': 0.002331002331002331, 'Negativo': 0.0016741071428571428}\n",
      "---------------------------------------- \n",
      "\n",
      "“La evidencia científica demuestra que con una dosis se reducen los contagios, las internaciones y la letalidad”, destacó el gobierno de Alberto Fernández en Twitter, que subrayó: “Prevenir la difusión de información errónea y falsa es responsabilidad de todas y todos”.\n",
      "categoria real: Positivo\n",
      "categoria pronosticada: Negativo\n",
      "Pertenencia: {'Positivo': 0.0, 'Negativo': 0.001953125}\n",
      "---------------------------------------- \n",
      "\n",
      "Si te gustan las milanesas de nalga gacelas con matambre salen un poco duras pero son más baratas y a Cristina le gustaron digo Alberto Fernandez\n",
      "categoria real: Positivo\n",
      "categoria pronosticada: Negativo\n",
      "Pertenencia: {'Positivo': 0.0, 'Negativo': 0.0005580357142857143}\n",
      "---------------------------------------- \n",
      "\n",
      "📌 Alberto Fernández: Argentina se encuentra entre los primeros 20 países que más vacunas ha suministrado\n",
      "\n",
      "Más en nuestro panorama de la tarde: https://t.co/6P0fbvuMmU https://t.co/TU7AqhJtud\n",
      "categoria real: Positivo\n",
      "categoria pronosticada: Negativo\n",
      "Pertenencia: {'Positivo': 0.0, 'Negativo': 0.00027901785714285713}\n",
      "---------------------------------------- \n",
      "\n",
      "El presidente Alberto Fernández se sumó en la tarde de este martes a las condolencias por la muerte de Horacio González. A través de su cuenta de Twitter, el jefe de Estado lamentó profundamente el deceso del sociólogo, quien irigió la Biblioteca Nac... https://t.co/CPBWGMzBDg\n",
      "categoria real: Negativo\n",
      "categoria pronosticada: Positivo\n",
      "Pertenencia: {'Positivo': 0.002331002331002331, 'Negativo': 0.0011160714285714285}\n",
      "---------------------------------------- \n",
      "\n",
      "Alberto Fernández, sos un hijo de re mil puta. 90.000 muertos.\n",
      "Fin. https://t.co/8Ol2WeNHhl\n",
      "categoria real: Negativo\n",
      "categoria pronosticada: Positivo\n",
      "Pertenencia: {'Positivo': 0.002331002331002331, 'Negativo': 0.0013950892857142857}\n",
      "---------------------------------------- \n",
      "\n",
      "2da DOSIS!!! Mano de OK Pulgares hacia arriba Signo de manos aplaudiendo Gracias @alferdez @CFKArgentina @Kicillofok @nico_mantegazza\n",
      "categoria real: Positivo\n",
      "categoria pronosticada: Negativo\n",
      "Pertenencia: {'Positivo': 0.0, 'Negativo': 0.0013950892857142857}\n",
      "---------------------------------------- \n",
      "\n",
      "Buen día amigos, menos para Alberto claseAFernandez, 90 mil muertes, 8% de la población con las 2 vacunas, 60 % de pobres, 2 millones de nuevos desocupados, sin clases...\n",
      "Lo peor está por venir...\n",
      "#HayOrdenDeNoAflojar \n",
      "#OrientalesDelTwitter\n",
      "categoria real: Negativo\n",
      "categoria pronosticada: Positivo\n",
      "Pertenencia: {'Positivo': 0.002331002331002331, 'Negativo': 0.0016741071428571428}\n",
      "---------------------------------------- \n",
      "\n",
      "Desaparecerán los animales de Macri. Alberto Fernández anunció diseños con imágenes de Güemes, San Martín y Belgrano. https://t.co/bGPgkczFGh\n",
      "categoria real: Negativo\n",
      "categoria pronosticada: Positivo\n",
      "Pertenencia: {'Positivo': 0.002331002331002331, 'Negativo': 0.0005580357142857143}\n",
      "---------------------------------------- \n",
      "\n",
      "Argentina cuenta hoy con 90.281 fallecidos por COVID-19, faltan vacunas, tiene una inflación interanual del 48,8% y un 45% de pobreza, pero Alberto Fernández dice que su Gobierno tiene un plan, que es cuidar a los argentinos 🤡 https://t.co/V2loI7nPVl\n",
      "categoria real: Negativo\n",
      "categoria pronosticada: Positivo\n",
      "Pertenencia: {'Positivo': 0.002331002331002331, 'Negativo': 0.0013950892857142857}\n",
      "---------------------------------------- \n",
      "\n",
      "Alcira Figueroa volvió a justificar la irrupción de militantes kirchneristas en el homenaje a Güemes y tildó de antivacunas a quienes critican a Alberto Fernández https://t.co/1cZ4u3nBTN\n",
      "categoria real: Negativo\n",
      "categoria pronosticada: Positivo\n",
      "Pertenencia: {'Positivo': 0.002331002331002331, 'Negativo': 0.0013950892857142857}\n",
      "---------------------------------------- \n",
      "\n",
      "Muchísimas gracias Cristina Fernandez Querida de mi corazón,Alberto Fernandez Querido y a todos/as que hicieron tanto esfuerzo por las vacunas, Mañana me vacunan con la segunda dosis, DIOS LOS BENDIGA🙏Muchas gracias 💞❤💞💞💞💞✌🇦🇷💞❤\n",
      "categoria real: Positivo\n",
      "categoria pronosticada: Negativo\n",
      "Pertenencia: {'Positivo': 0.0, 'Negativo': 0.00027901785714285713}\n",
      "---------------------------------------- \n",
      "\n",
      "@ActualidadRT Darwin estaría feliz, Alberto Fernández sí proviene del mono.\n",
      "categoria real: Negativo\n",
      "categoria pronosticada: Positivo\n",
      "Pertenencia: {'Positivo': 0.002331002331002331, 'Negativo': 0.00027901785714285713}\n",
      "---------------------------------------- \n",
      "\n",
      "@EPetronni entonces\n",
      "CFK a la provincia, bastion y feudo kirchnerista\n",
      "Massa en la transicion hasta 2023 o mas\n",
      "Alberto fernandez al exilio, olvido e intrascendencia\n",
      "categoria real: Positivo\n",
      "categoria pronosticada: Negativo\n",
      "Pertenencia: {'Positivo': 0.0, 'Negativo': 0.0013950892857142857}\n",
      "---------------------------------------- \n",
      "\n",
      "Elecciones: un exministro criticó a Alberto Fernández y se sumó a la danza de nombres en Río Negro https://t.co/ocnFg5lxSA https://t.co/EG9cNA9cTP\n",
      "categoria real: Negativo\n",
      "categoria pronosticada: Positivo\n",
      "Pertenencia: {'Positivo': 0.002331002331002331, 'Negativo': 0.0005580357142857143}\n",
      "---------------------------------------- \n",
      "\n",
      "El gobierno de Alberto Fernández no tiene viento de cola, para los meses que se levante la cosecha en Estados Unidos la soja estaría en U$S 480 y el maíz en U$S 220, no todo es color de rosa. Lo mejor de los precios internacionales ya lo vimos. Salvador Di Stefano\n",
      "categoria real: Negativo\n",
      "categoria pronosticada: Positivo\n",
      "Pertenencia: {'Positivo': 0.004662004662004662, 'Negativo': 0.0011160714285714285}\n",
      "---------------------------------------- \n",
      "\n",
      "@todonoticias Cuánto nos cuesta CLARÍN por PAUTA OFICIAL, la verdad es que Alberto Fernández es un pelo... https://t.co/GMAINPWA0w\n",
      "categoria real: Negativo\n",
      "categoria pronosticada: Positivo\n",
      "Pertenencia: {'Positivo': 0.002331002331002331, 'Negativo': 0.0016741071428571428}\n",
      "---------------------------------------- \n",
      "\n",
      "Que lindo si @alferdez lo consigue a pesar Brasil. Nos vamos a cagar de risa de la Embajada y de @infobae, q son lo mismo.\n",
      "\n",
      "https://t.co/XgJqPndQ9Y\n",
      "categoria real: Negativo\n",
      "categoria pronosticada: Positivo\n",
      "Pertenencia: {'Positivo': 0.002331002331002331, 'Negativo': 0.0016741071428571428}\n",
      "---------------------------------------- \n",
      "\n",
      "Aplauso para los gauchos en Salta que fueron de frente a encarar a Alberto Fernández durante el Bicentenario del fallecimiento de Güemes. Una falta de respeto hacia el prócer y el pueblo argentino hacer un circo piquetero cuando ni siquiera permitieron el tradicional desfile.\n",
      "categoria real: Positivo\n",
      "categoria pronosticada: Negativo\n",
      "Pertenencia: {'Positivo': 0.0, 'Negativo': 0.002232142857142857}\n",
      "---------------------------------------- \n",
      "\n",
      "@alfredocornejo @alferdez Ya llegan el sábado casi 1 millón!!! Y de la ponen al pueblo ustedes las dejaron vencer y volvió el sarampión!!! Anda a vender ballenitas a la puerta del Banco!!! Te va ir mejor!!! Va siempre viviste del estado(Nunca laburaste!!! Viva PERÓN y ALBERTO Fernández!\n",
      "categoria real: Negativo\n",
      "categoria pronosticada: Positivo\n",
      "Pertenencia: {'Positivo': 0.004662004662004662, 'Negativo': 0.0027901785714285715}\n",
      "---------------------------------------- \n",
      "\n",
      "@vtolosapaz @luisnovaresio @A24COM Espero que te pregunte si te atiende algún psiquiatra por tus ataques de locura u porque le prestabas o alquilabas el dpto que tenes en Puerto madero a Alberto Fernández\n",
      "categoria real: Negativo\n",
      "categoria pronosticada: Positivo\n",
      "Pertenencia: {'Positivo': 0.002331002331002331, 'Negativo': 0.0016741071428571428}\n",
      "---------------------------------------- \n",
      "\n",
      "accuracy: 0.8470588235294118\n"
     ]
    }
   ],
   "source": [
    "aciertos = 0\n",
    "\n",
    "for i in df_test.index:\n",
    "    p, c = clasificador(df_test.loc[i]['Tweet'])\n",
    "\n",
    "    if c == df_test.loc[i]['Categoria']:\n",
    "        aciertos += 1\n",
    "    else:\n",
    "        print(df_test.loc[i]['Tweet'])\n",
    "        print('categoria real:', df_test.loc[i]['Categoria'])\n",
    "        print('categoria pronosticada:', c)\n",
    "        print('Pertenencia:', p)\n",
    "        print('-'*40, '\\n')\n",
    "\n",
    "print(\"accuracy:\", aciertos/df_test.shape[0])"
   ]
  },
  {
   "cell_type": "markdown",
   "metadata": {},
   "source": [
    "## Conclusiones"
   ]
  },
  {
   "cell_type": "markdown",
   "metadata": {},
   "source": [
    "### El resultado de este clasificador tan simple es sumamente aceptable ya que teniendo un conjunto de 1300 tweets de tan variada redacción y diversos sentidos, se hubiesen esperado resultados mas desfavorables.\r\n",
    "### No se tuvo en cuenta en este desarrrollo la presencia de IRONIAS donde el Clasificador mostró una fuerte debilidad. Las palabras que tienen un sentido pero cargado se una intensión inversa a la redactada lleva al error sin ninguna duda a este clasificador.\r\n",
    "### Parece que el desvalance en la cantidad de Tweets negativos y positivos parece no tenber mayor influencia en la respuesta del modelo.\r\n",
    "### Es importante mencionar que los corpus fueron armados con los Tweets positivos y negativos, dejando sin consideracion a los neutros ya que esta clasificacion fue donde se incluyeron a los Tweets sin contenido de emociones (titulares sin orientación) o los Tweets que no podian ser catalogados como positivos o negatios."
   ]
  }
 ],
 "metadata": {
  "interpreter": {
   "hash": "d38ba80676ae03a182d2c3a82f5be81b1e2f1fa26e9bd127b3d1c8c44ca42ac1"
  },
  "kernelspec": {
   "display_name": "Python 3.8.10 64-bit ('base': conda)",
   "name": "python3"
  },
  "language_info": {
   "codemirror_mode": {
    "name": "ipython",
    "version": 3
   },
   "file_extension": ".py",
   "mimetype": "text/x-python",
   "name": "python",
   "nbconvert_exporter": "python",
   "pygments_lexer": "ipython3",
   "version": "3.8.10"
  },
  "metadata": {
   "interpreter": {
    "hash": "ad0abb3242575224e948a146b1252bed626a3916e421172c8d99062b43933e35"
   }
  },
  "orig_nbformat": 2
 },
 "nbformat": 4,
 "nbformat_minor": 2
}